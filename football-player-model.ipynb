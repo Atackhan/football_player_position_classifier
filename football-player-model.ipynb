{
 "cells": [
  {
   "cell_type": "code",
   "execution_count": 2,
   "id": "1618cbec-93c4-42ec-96f9-2cee4f31dfe3",
   "metadata": {},
   "outputs": [],
   "source": [
    "import pandas as pd\n",
    "import numpy as np\n",
    "import matplotlib.pyplot as plt\n",
    "import seaborn as sns"
   ]
  },
  {
   "cell_type": "code",
   "execution_count": 3,
   "id": "28bf02e9-9514-4cc9-b9f5-e1419ffc2c62",
   "metadata": {},
   "outputs": [
    {
     "data": {
      "text/html": [
       "<div>\n",
       "<style scoped>\n",
       "    .dataframe tbody tr th:only-of-type {\n",
       "        vertical-align: middle;\n",
       "    }\n",
       "\n",
       "    .dataframe tbody tr th {\n",
       "        vertical-align: top;\n",
       "    }\n",
       "\n",
       "    .dataframe thead th {\n",
       "        text-align: right;\n",
       "    }\n",
       "</style>\n",
       "<table border=\"1\" class=\"dataframe\">\n",
       "  <thead>\n",
       "    <tr style=\"text-align: right;\">\n",
       "      <th></th>\n",
       "      <th>Player Name</th>\n",
       "      <th>Player Team</th>\n",
       "      <th>Team Formation</th>\n",
       "      <th>Player Age</th>\n",
       "      <th>Player Height</th>\n",
       "      <th>Position 1</th>\n",
       "      <th>Position 2</th>\n",
       "      <th>Mins Played</th>\n",
       "      <th>tacklePerGame</th>\n",
       "      <th>interceptionPerGame</th>\n",
       "      <th>...</th>\n",
       "      <th>totalPassesPerGame</th>\n",
       "      <th>passSuccess</th>\n",
       "      <th>accurateCrossesPerGame</th>\n",
       "      <th>accurateLongPassPerGame</th>\n",
       "      <th>accurateThroughBallPerGame</th>\n",
       "      <th>xG</th>\n",
       "      <th>xGPerNinety</th>\n",
       "      <th>totalShots</th>\n",
       "      <th>xGPerShot</th>\n",
       "      <th>rating</th>\n",
       "    </tr>\n",
       "  </thead>\n",
       "  <tbody>\n",
       "    <tr>\n",
       "      <th>0</th>\n",
       "      <td>Lamine Yamal</td>\n",
       "      <td>Barcelona</td>\n",
       "      <td>4-2-3-1</td>\n",
       "      <td>17</td>\n",
       "      <td>180</td>\n",
       "      <td>AM(R)</td>\n",
       "      <td>AM(R)</td>\n",
       "      <td>1885</td>\n",
       "      <td>1.3</td>\n",
       "      <td>0.5</td>\n",
       "      <td>...</td>\n",
       "      <td>35.4</td>\n",
       "      <td>78.0</td>\n",
       "      <td>0.6</td>\n",
       "      <td>0.8</td>\n",
       "      <td>0.4</td>\n",
       "      <td>7.38</td>\n",
       "      <td>0.35</td>\n",
       "      <td>82.0</td>\n",
       "      <td>0.09</td>\n",
       "      <td>7.96</td>\n",
       "    </tr>\n",
       "    <tr>\n",
       "      <th>1</th>\n",
       "      <td>Mohamed Salah</td>\n",
       "      <td>Liverpool</td>\n",
       "      <td>4-2-3-1</td>\n",
       "      <td>32</td>\n",
       "      <td>175</td>\n",
       "      <td>AM(CLR)</td>\n",
       "      <td>FW</td>\n",
       "      <td>2485</td>\n",
       "      <td>0.6</td>\n",
       "      <td>0.1</td>\n",
       "      <td>...</td>\n",
       "      <td>30.1</td>\n",
       "      <td>73.7</td>\n",
       "      <td>0.5</td>\n",
       "      <td>0.8</td>\n",
       "      <td>0.2</td>\n",
       "      <td>20.84</td>\n",
       "      <td>0.75</td>\n",
       "      <td>101.0</td>\n",
       "      <td>0.21</td>\n",
       "      <td>7.89</td>\n",
       "    </tr>\n",
       "    <tr>\n",
       "      <th>2</th>\n",
       "      <td>Harry Kane</td>\n",
       "      <td>Bayern</td>\n",
       "      <td>4-2-3-1</td>\n",
       "      <td>31</td>\n",
       "      <td>188</td>\n",
       "      <td>AM(C)</td>\n",
       "      <td>FW</td>\n",
       "      <td>1738</td>\n",
       "      <td>0.3</td>\n",
       "      <td>0.1</td>\n",
       "      <td>...</td>\n",
       "      <td>20.4</td>\n",
       "      <td>81.1</td>\n",
       "      <td>0.2</td>\n",
       "      <td>1.4</td>\n",
       "      <td>0.5</td>\n",
       "      <td>18.32</td>\n",
       "      <td>0.95</td>\n",
       "      <td>82.0</td>\n",
       "      <td>0.22</td>\n",
       "      <td>7.86</td>\n",
       "    </tr>\n",
       "    <tr>\n",
       "      <th>3</th>\n",
       "      <td>Ousmane Dembélé</td>\n",
       "      <td>PSG</td>\n",
       "      <td>4-3-3</td>\n",
       "      <td>27</td>\n",
       "      <td>178</td>\n",
       "      <td>AM(CLR)</td>\n",
       "      <td>FW</td>\n",
       "      <td>1373</td>\n",
       "      <td>0.5</td>\n",
       "      <td>0.4</td>\n",
       "      <td>...</td>\n",
       "      <td>34.5</td>\n",
       "      <td>83.7</td>\n",
       "      <td>1.3</td>\n",
       "      <td>1.1</td>\n",
       "      <td>0.2</td>\n",
       "      <td>13.08</td>\n",
       "      <td>0.86</td>\n",
       "      <td>73.0</td>\n",
       "      <td>0.18</td>\n",
       "      <td>7.85</td>\n",
       "    </tr>\n",
       "    <tr>\n",
       "      <th>4</th>\n",
       "      <td>Bukayo Saka</td>\n",
       "      <td>Arsenal</td>\n",
       "      <td>4-3-3</td>\n",
       "      <td>23</td>\n",
       "      <td>178</td>\n",
       "      <td>LB</td>\n",
       "      <td>M(CLR)</td>\n",
       "      <td>1276</td>\n",
       "      <td>1.4</td>\n",
       "      <td>0.1</td>\n",
       "      <td>...</td>\n",
       "      <td>27.1</td>\n",
       "      <td>84.3</td>\n",
       "      <td>1.9</td>\n",
       "      <td>0.3</td>\n",
       "      <td>0.1</td>\n",
       "      <td>4.79</td>\n",
       "      <td>0.34</td>\n",
       "      <td>46.0</td>\n",
       "      <td>0.10</td>\n",
       "      <td>7.79</td>\n",
       "    </tr>\n",
       "  </tbody>\n",
       "</table>\n",
       "<p>5 rows × 32 columns</p>\n",
       "</div>"
      ],
      "text/plain": [
       "       Player Name Player Team Team Formation  Player Age  Player Height  \\\n",
       "0     Lamine Yamal   Barcelona        4-2-3-1          17            180   \n",
       "1    Mohamed Salah   Liverpool        4-2-3-1          32            175   \n",
       "2       Harry Kane      Bayern        4-2-3-1          31            188   \n",
       "3  Ousmane Dembélé         PSG          4-3-3          27            178   \n",
       "4      Bukayo Saka     Arsenal          4-3-3          23            178   \n",
       "\n",
       "  Position 1 Position 2  Mins Played  tacklePerGame  interceptionPerGame  ...  \\\n",
       "0      AM(R)      AM(R)         1885            1.3                  0.5  ...   \n",
       "1    AM(CLR)         FW         2485            0.6                  0.1  ...   \n",
       "2      AM(C)         FW         1738            0.3                  0.1  ...   \n",
       "3    AM(CLR)         FW         1373            0.5                  0.4  ...   \n",
       "4         LB     M(CLR)         1276            1.4                  0.1  ...   \n",
       "\n",
       "   totalPassesPerGame  passSuccess  accurateCrossesPerGame  \\\n",
       "0                35.4         78.0                     0.6   \n",
       "1                30.1         73.7                     0.5   \n",
       "2                20.4         81.1                     0.2   \n",
       "3                34.5         83.7                     1.3   \n",
       "4                27.1         84.3                     1.9   \n",
       "\n",
       "   accurateLongPassPerGame  accurateThroughBallPerGame     xG  xGPerNinety  \\\n",
       "0                      0.8                         0.4   7.38         0.35   \n",
       "1                      0.8                         0.2  20.84         0.75   \n",
       "2                      1.4                         0.5  18.32         0.95   \n",
       "3                      1.1                         0.2  13.08         0.86   \n",
       "4                      0.3                         0.1   4.79         0.34   \n",
       "\n",
       "   totalShots  xGPerShot  rating  \n",
       "0        82.0       0.09    7.96  \n",
       "1       101.0       0.21    7.89  \n",
       "2        82.0       0.22    7.86  \n",
       "3        73.0       0.18    7.85  \n",
       "4        46.0       0.10    7.79  \n",
       "\n",
       "[5 rows x 32 columns]"
      ]
     },
     "execution_count": 3,
     "metadata": {},
     "output_type": "execute_result"
    }
   ],
   "source": [
    "df=pd.read_csv(\"Football_Player_Data-1.csv\")\n",
    "df.head()"
   ]
  },
  {
   "cell_type": "code",
   "execution_count": 4,
   "id": "dcc8ae0a-bf07-4312-925d-53e178da2774",
   "metadata": {},
   "outputs": [
    {
     "data": {
      "text/plain": [
       "Player Name                      0\n",
       "Player Team                      0\n",
       "Team Formation                   0\n",
       "Player Age                       0\n",
       "Player Height                    0\n",
       "Position 1                       0\n",
       "Position 2                       0\n",
       "Mins Played                      0\n",
       "tacklePerGame                   73\n",
       "interceptionPerGame            153\n",
       "foulsPerGame                    83\n",
       "clearancePerGame                13\n",
       "wasDribbledPerGame              77\n",
       "goal                           581\n",
       "assistTotal                    590\n",
       "shotsPerGame                    99\n",
       "keyPassPerGame                  96\n",
       "dribbleWonPerGame              154\n",
       "foulGivenPerGame                22\n",
       "offsideGivenPerGame            736\n",
       "dispossessedPerGame            144\n",
       "turnoverPerGame                 71\n",
       "totalPassesPerGame               4\n",
       "passSuccess                      4\n",
       "accurateCrossesPerGame         502\n",
       "accurateLongPassPerGame         42\n",
       "accurateThroughBallPerGame    1022\n",
       "xG                             127\n",
       "xGPerNinety                    127\n",
       "totalShots                     127\n",
       "xGPerShot                      127\n",
       "rating                           0\n",
       "dtype: int64"
      ]
     },
     "execution_count": 4,
     "metadata": {},
     "output_type": "execute_result"
    }
   ],
   "source": [
    "df.isnull().sum()"
   ]
  },
  {
   "cell_type": "code",
   "execution_count": 5,
   "id": "1babd1a8-185e-44e2-8c07-4e2c95a062e4",
   "metadata": {},
   "outputs": [
    {
     "name": "stdout",
     "output_type": "stream",
     "text": [
      "<class 'pandas.core.frame.DataFrame'>\n",
      "RangeIndex: 1533 entries, 0 to 1532\n",
      "Data columns (total 32 columns):\n",
      " #   Column                      Non-Null Count  Dtype  \n",
      "---  ------                      --------------  -----  \n",
      " 0   Player Name                 1533 non-null   object \n",
      " 1   Player Team                 1533 non-null   object \n",
      " 2   Team Formation              1533 non-null   object \n",
      " 3   Player Age                  1533 non-null   int64  \n",
      " 4   Player Height               1533 non-null   int64  \n",
      " 5   Position 1                  1533 non-null   object \n",
      " 6   Position 2                  1533 non-null   object \n",
      " 7   Mins Played                 1533 non-null   int64  \n",
      " 8   tacklePerGame               1460 non-null   float64\n",
      " 9   interceptionPerGame         1380 non-null   float64\n",
      " 10  foulsPerGame                1450 non-null   float64\n",
      " 11  clearancePerGame            1520 non-null   float64\n",
      " 12  wasDribbledPerGame          1456 non-null   float64\n",
      " 13  goal                        952 non-null    float64\n",
      " 14  assistTotal                 943 non-null    float64\n",
      " 15  shotsPerGame                1434 non-null   float64\n",
      " 16  keyPassPerGame              1437 non-null   float64\n",
      " 17  dribbleWonPerGame           1379 non-null   float64\n",
      " 18  foulGivenPerGame            1511 non-null   float64\n",
      " 19  offsideGivenPerGame         797 non-null    float64\n",
      " 20  dispossessedPerGame         1389 non-null   float64\n",
      " 21  turnoverPerGame             1462 non-null   float64\n",
      " 22  totalPassesPerGame          1529 non-null   float64\n",
      " 23  passSuccess                 1529 non-null   float64\n",
      " 24  accurateCrossesPerGame      1031 non-null   float64\n",
      " 25  accurateLongPassPerGame     1491 non-null   float64\n",
      " 26  accurateThroughBallPerGame  511 non-null    float64\n",
      " 27  xG                          1406 non-null   float64\n",
      " 28  xGPerNinety                 1406 non-null   object \n",
      " 29  totalShots                  1406 non-null   float64\n",
      " 30  xGPerShot                   1406 non-null   float64\n",
      " 31  rating                      1533 non-null   float64\n",
      "dtypes: float64(23), int64(3), object(6)\n",
      "memory usage: 383.4+ KB\n"
     ]
    }
   ],
   "source": [
    "df.info()"
   ]
  },
  {
   "cell_type": "code",
   "execution_count": 6,
   "id": "0647d87e-3be4-4a56-be56-5c55742703cb",
   "metadata": {},
   "outputs": [
    {
     "data": {
      "text/plain": [
       "Player Name                      0\n",
       "Player Team                      0\n",
       "Team Formation                   0\n",
       "Player Age                       0\n",
       "Player Height                    0\n",
       "Position 1                       0\n",
       "Position 2                       0\n",
       "Mins Played                      0\n",
       "tacklePerGame                   73\n",
       "interceptionPerGame            153\n",
       "foulsPerGame                    83\n",
       "clearancePerGame                13\n",
       "wasDribbledPerGame              77\n",
       "goal                           581\n",
       "assistTotal                    590\n",
       "shotsPerGame                    99\n",
       "keyPassPerGame                  96\n",
       "dribbleWonPerGame              154\n",
       "foulGivenPerGame                22\n",
       "offsideGivenPerGame            736\n",
       "dispossessedPerGame            144\n",
       "turnoverPerGame                 71\n",
       "totalPassesPerGame               4\n",
       "passSuccess                      4\n",
       "accurateCrossesPerGame         502\n",
       "accurateLongPassPerGame         42\n",
       "accurateThroughBallPerGame    1022\n",
       "xG                             127\n",
       "xGPerNinety                    127\n",
       "totalShots                     127\n",
       "xGPerShot                      127\n",
       "rating                           0\n",
       "dtype: int64"
      ]
     },
     "execution_count": 6,
     "metadata": {},
     "output_type": "execute_result"
    }
   ],
   "source": [
    "df.isna().sum()"
   ]
  },
  {
   "cell_type": "code",
   "execution_count": 7,
   "id": "7191dcf7-b8d2-43e9-88af-ab1ee70a092a",
   "metadata": {},
   "outputs": [],
   "source": [
    "df['xGPerNinety'] = pd.to_numeric(df['xGPerNinety'], errors='coerce')\n",
    "\n",
    "# Medyanı hesaplama\n",
    "median_value = df['xGPerNinety'].median()\n",
    "\n",
    "# NaN (boş) değerleri medyan ile doldurma\n",
    "df['xGPerNinety'].fillna(median_value, inplace=True)"
   ]
  },
  {
   "cell_type": "code",
   "execution_count": 8,
   "id": "ab413546-b3c1-4799-a847-37e26c30db8c",
   "metadata": {},
   "outputs": [
    {
     "data": {
      "text/plain": [
       "Player Name                      0\n",
       "Player Team                      0\n",
       "Team Formation                   0\n",
       "Player Age                       0\n",
       "Player Height                    0\n",
       "Position 1                       0\n",
       "Position 2                       0\n",
       "Mins Played                      0\n",
       "tacklePerGame                   73\n",
       "interceptionPerGame            153\n",
       "foulsPerGame                    83\n",
       "clearancePerGame                13\n",
       "wasDribbledPerGame              77\n",
       "goal                           581\n",
       "assistTotal                    590\n",
       "shotsPerGame                    99\n",
       "keyPassPerGame                  96\n",
       "dribbleWonPerGame              154\n",
       "foulGivenPerGame                22\n",
       "offsideGivenPerGame            736\n",
       "dispossessedPerGame            144\n",
       "turnoverPerGame                 71\n",
       "totalPassesPerGame               4\n",
       "passSuccess                      4\n",
       "accurateCrossesPerGame         502\n",
       "accurateLongPassPerGame         42\n",
       "accurateThroughBallPerGame    1022\n",
       "xG                             127\n",
       "xGPerNinety                      0\n",
       "totalShots                     127\n",
       "xGPerShot                      127\n",
       "rating                           0\n",
       "dtype: int64"
      ]
     },
     "execution_count": 8,
     "metadata": {},
     "output_type": "execute_result"
    }
   ],
   "source": [
    "df.isna().sum()"
   ]
  },
  {
   "cell_type": "code",
   "execution_count": 9,
   "id": "99767637-370b-4360-a2a6-0afb4b5bf1e9",
   "metadata": {},
   "outputs": [
    {
     "data": {
      "text/plain": [
       "Player Name                   0\n",
       "Player Team                   0\n",
       "Team Formation                0\n",
       "Player Age                    0\n",
       "Player Height                 0\n",
       "Position 1                    0\n",
       "Position 2                    0\n",
       "Mins Played                   0\n",
       "tacklePerGame                 0\n",
       "interceptionPerGame           0\n",
       "foulsPerGame                  0\n",
       "clearancePerGame              0\n",
       "wasDribbledPerGame            0\n",
       "goal                          0\n",
       "assistTotal                   0\n",
       "shotsPerGame                  0\n",
       "keyPassPerGame                0\n",
       "dribbleWonPerGame             0\n",
       "foulGivenPerGame              0\n",
       "offsideGivenPerGame           0\n",
       "dispossessedPerGame           0\n",
       "turnoverPerGame               0\n",
       "totalPassesPerGame            0\n",
       "passSuccess                   0\n",
       "accurateCrossesPerGame        0\n",
       "accurateLongPassPerGame       0\n",
       "accurateThroughBallPerGame    0\n",
       "xG                            0\n",
       "xGPerNinety                   0\n",
       "totalShots                    0\n",
       "xGPerShot                     0\n",
       "rating                        0\n",
       "dtype: int64"
      ]
     },
     "execution_count": 9,
     "metadata": {},
     "output_type": "execute_result"
    }
   ],
   "source": [
    "df=df.fillna(0)\n",
    "df.isna().sum()"
   ]
  },
  {
   "cell_type": "code",
   "execution_count": 10,
   "id": "d5a8b63a-e061-4d54-8259-97ce5718c327",
   "metadata": {},
   "outputs": [
    {
     "data": {
      "text/plain": [
       "array([0.09, 0.21, 0.22, 0.18, 0.1 , 0.17, 0.15, 0.16, 0.13, 0.12, 0.14,\n",
       "       0.07, 0.2 , 0.08, 0.19, 0.26, 0.11, 0.03, 0.28, 0.06, 0.  , 0.04,\n",
       "       0.24, 0.05, 0.23, 0.3 , 0.35, 0.02, 0.25, 0.01, 0.59, 0.27, 0.29,\n",
       "       0.48, 0.44, 0.31, 0.77, 0.33, 0.34])"
      ]
     },
     "execution_count": 10,
     "metadata": {},
     "output_type": "execute_result"
    }
   ],
   "source": [
    "df['xGPerShot'].unique()"
   ]
  },
  {
   "cell_type": "markdown",
   "id": "56e8aeaf-1252-4d29-81bb-886223b509eb",
   "metadata": {},
   "source": [
    "# Model"
   ]
  },
  {
   "cell_type": "markdown",
   "id": "dc855040-e515-4772-95a4-d4cd9a514581",
   "metadata": {},
   "source": [
    "## Creating Model Elements"
   ]
  },
  {
   "cell_type": "code",
   "execution_count": 52,
   "id": "4e0fcb5f-a911-4bbd-be01-2dff846569a6",
   "metadata": {},
   "outputs": [],
   "source": [
    "from sklearn.preprocessing import LabelEncoder\n",
    "label_encoder = LabelEncoder()\n",
    "df['Position 1'] = label_encoder.fit_transform(df['Position 1'])"
   ]
  },
  {
   "cell_type": "code",
   "execution_count": 53,
   "id": "28b3c393-c384-4adb-b23b-916e3ab97195",
   "metadata": {},
   "outputs": [],
   "source": [
    "from sklearn.model_selection import train_test_split\n",
    "X=df.drop(columns=['Position 1','Position 2', 'Player Name','Player Team', 'Team Formation', 'Player Age','Mins Played','rating'])\n",
    "y=df['Position 1']"
   ]
  },
  {
   "cell_type": "code",
   "execution_count": 56,
   "id": "a5b43c06-3d01-4ec3-a9c7-5f5fa80a706f",
   "metadata": {},
   "outputs": [
    {
     "data": {
      "text/plain": [
       "0     6\n",
       "1     2\n",
       "2     0\n",
       "3     2\n",
       "4    15\n",
       "Name: Position 1, dtype: int32"
      ]
     },
     "execution_count": 56,
     "metadata": {},
     "output_type": "execute_result"
    }
   ],
   "source": [
    "y.head()"
   ]
  },
  {
   "cell_type": "code",
   "execution_count": 57,
   "id": "f40fd804-b29e-4fcc-ab87-5d11f945c8e6",
   "metadata": {},
   "outputs": [],
   "source": [
    "X_train, X_test, y_train, y_test = train_test_split(X,y, test_size=0.2, random_state=42)"
   ]
  },
  {
   "cell_type": "markdown",
   "id": "bbfb7188-1ff1-4f48-bac9-d54c4aea366f",
   "metadata": {},
   "source": [
    "## Model Selection"
   ]
  },
  {
   "cell_type": "markdown",
   "id": "74ec6c3d-ddad-43bf-9387-cc35d7504e62",
   "metadata": {},
   "source": [
    "### SVM"
   ]
  },
  {
   "cell_type": "code",
   "execution_count": 58,
   "id": "f098c765-9d3a-4525-b7b4-cdf19aa80733",
   "metadata": {},
   "outputs": [
    {
     "data": {
      "text/html": [
       "<style>#sk-container-id-4 {color: black;background-color: white;}#sk-container-id-4 pre{padding: 0;}#sk-container-id-4 div.sk-toggleable {background-color: white;}#sk-container-id-4 label.sk-toggleable__label {cursor: pointer;display: block;width: 100%;margin-bottom: 0;padding: 0.3em;box-sizing: border-box;text-align: center;}#sk-container-id-4 label.sk-toggleable__label-arrow:before {content: \"▸\";float: left;margin-right: 0.25em;color: #696969;}#sk-container-id-4 label.sk-toggleable__label-arrow:hover:before {color: black;}#sk-container-id-4 div.sk-estimator:hover label.sk-toggleable__label-arrow:before {color: black;}#sk-container-id-4 div.sk-toggleable__content {max-height: 0;max-width: 0;overflow: hidden;text-align: left;background-color: #f0f8ff;}#sk-container-id-4 div.sk-toggleable__content pre {margin: 0.2em;color: black;border-radius: 0.25em;background-color: #f0f8ff;}#sk-container-id-4 input.sk-toggleable__control:checked~div.sk-toggleable__content {max-height: 200px;max-width: 100%;overflow: auto;}#sk-container-id-4 input.sk-toggleable__control:checked~label.sk-toggleable__label-arrow:before {content: \"▾\";}#sk-container-id-4 div.sk-estimator input.sk-toggleable__control:checked~label.sk-toggleable__label {background-color: #d4ebff;}#sk-container-id-4 div.sk-label input.sk-toggleable__control:checked~label.sk-toggleable__label {background-color: #d4ebff;}#sk-container-id-4 input.sk-hidden--visually {border: 0;clip: rect(1px 1px 1px 1px);clip: rect(1px, 1px, 1px, 1px);height: 1px;margin: -1px;overflow: hidden;padding: 0;position: absolute;width: 1px;}#sk-container-id-4 div.sk-estimator {font-family: monospace;background-color: #f0f8ff;border: 1px dotted black;border-radius: 0.25em;box-sizing: border-box;margin-bottom: 0.5em;}#sk-container-id-4 div.sk-estimator:hover {background-color: #d4ebff;}#sk-container-id-4 div.sk-parallel-item::after {content: \"\";width: 100%;border-bottom: 1px solid gray;flex-grow: 1;}#sk-container-id-4 div.sk-label:hover label.sk-toggleable__label {background-color: #d4ebff;}#sk-container-id-4 div.sk-serial::before {content: \"\";position: absolute;border-left: 1px solid gray;box-sizing: border-box;top: 0;bottom: 0;left: 50%;z-index: 0;}#sk-container-id-4 div.sk-serial {display: flex;flex-direction: column;align-items: center;background-color: white;padding-right: 0.2em;padding-left: 0.2em;position: relative;}#sk-container-id-4 div.sk-item {position: relative;z-index: 1;}#sk-container-id-4 div.sk-parallel {display: flex;align-items: stretch;justify-content: center;background-color: white;position: relative;}#sk-container-id-4 div.sk-item::before, #sk-container-id-4 div.sk-parallel-item::before {content: \"\";position: absolute;border-left: 1px solid gray;box-sizing: border-box;top: 0;bottom: 0;left: 50%;z-index: -1;}#sk-container-id-4 div.sk-parallel-item {display: flex;flex-direction: column;z-index: 1;position: relative;background-color: white;}#sk-container-id-4 div.sk-parallel-item:first-child::after {align-self: flex-end;width: 50%;}#sk-container-id-4 div.sk-parallel-item:last-child::after {align-self: flex-start;width: 50%;}#sk-container-id-4 div.sk-parallel-item:only-child::after {width: 0;}#sk-container-id-4 div.sk-dashed-wrapped {border: 1px dashed gray;margin: 0 0.4em 0.5em 0.4em;box-sizing: border-box;padding-bottom: 0.4em;background-color: white;}#sk-container-id-4 div.sk-label label {font-family: monospace;font-weight: bold;display: inline-block;line-height: 1.2em;}#sk-container-id-4 div.sk-label-container {text-align: center;}#sk-container-id-4 div.sk-container {/* jupyter's `normalize.less` sets `[hidden] { display: none; }` but bootstrap.min.css set `[hidden] { display: none !important; }` so we also need the `!important` here to be able to override the default hidden behavior on the sphinx rendered scikit-learn.org. See: https://github.com/scikit-learn/scikit-learn/issues/21755 */display: inline-block !important;position: relative;}#sk-container-id-4 div.sk-text-repr-fallback {display: none;}</style><div id=\"sk-container-id-4\" class=\"sk-top-container\"><div class=\"sk-text-repr-fallback\"><pre>GridSearchCV(cv=2, estimator=SVC(), n_jobs=-1,\n",
       "             param_grid={&#x27;C&#x27;: [0.1, 1, 10, 100], &#x27;gamma&#x27;: [&#x27;scale&#x27;, &#x27;auto&#x27;],\n",
       "                         &#x27;kernel&#x27;: [&#x27;linear&#x27;, &#x27;rbf&#x27;, &#x27;poly&#x27;]},\n",
       "             scoring=&#x27;accuracy&#x27;)</pre><b>In a Jupyter environment, please rerun this cell to show the HTML representation or trust the notebook. <br />On GitHub, the HTML representation is unable to render, please try loading this page with nbviewer.org.</b></div><div class=\"sk-container\" hidden><div class=\"sk-item sk-dashed-wrapped\"><div class=\"sk-label-container\"><div class=\"sk-label sk-toggleable\"><input class=\"sk-toggleable__control sk-hidden--visually\" id=\"sk-estimator-id-10\" type=\"checkbox\" ><label for=\"sk-estimator-id-10\" class=\"sk-toggleable__label sk-toggleable__label-arrow\">GridSearchCV</label><div class=\"sk-toggleable__content\"><pre>GridSearchCV(cv=2, estimator=SVC(), n_jobs=-1,\n",
       "             param_grid={&#x27;C&#x27;: [0.1, 1, 10, 100], &#x27;gamma&#x27;: [&#x27;scale&#x27;, &#x27;auto&#x27;],\n",
       "                         &#x27;kernel&#x27;: [&#x27;linear&#x27;, &#x27;rbf&#x27;, &#x27;poly&#x27;]},\n",
       "             scoring=&#x27;accuracy&#x27;)</pre></div></div></div><div class=\"sk-parallel\"><div class=\"sk-parallel-item\"><div class=\"sk-item\"><div class=\"sk-label-container\"><div class=\"sk-label sk-toggleable\"><input class=\"sk-toggleable__control sk-hidden--visually\" id=\"sk-estimator-id-11\" type=\"checkbox\" ><label for=\"sk-estimator-id-11\" class=\"sk-toggleable__label sk-toggleable__label-arrow\">estimator: SVC</label><div class=\"sk-toggleable__content\"><pre>SVC()</pre></div></div></div><div class=\"sk-serial\"><div class=\"sk-item\"><div class=\"sk-estimator sk-toggleable\"><input class=\"sk-toggleable__control sk-hidden--visually\" id=\"sk-estimator-id-12\" type=\"checkbox\" ><label for=\"sk-estimator-id-12\" class=\"sk-toggleable__label sk-toggleable__label-arrow\">SVC</label><div class=\"sk-toggleable__content\"><pre>SVC()</pre></div></div></div></div></div></div></div></div></div></div>"
      ],
      "text/plain": [
       "GridSearchCV(cv=2, estimator=SVC(), n_jobs=-1,\n",
       "             param_grid={'C': [0.1, 1, 10, 100], 'gamma': ['scale', 'auto'],\n",
       "                         'kernel': ['linear', 'rbf', 'poly']},\n",
       "             scoring='accuracy')"
      ]
     },
     "execution_count": 58,
     "metadata": {},
     "output_type": "execute_result"
    }
   ],
   "source": [
    "from sklearn.svm import SVC\n",
    "from sklearn.model_selection import GridSearchCV\n",
    "param_grid = {\n",
    "    'C': [0.1, 1, 10, 100],\n",
    "    'kernel': ['linear', 'rbf', 'poly'],\n",
    "    'gamma': ['scale', 'auto']\n",
    "}\n",
    "SVM = GridSearchCV(SVC(), param_grid, cv=2, scoring='accuracy', n_jobs=-1)\n",
    "SVM.fit(X_train, y_train)"
   ]
  },
  {
   "cell_type": "code",
   "execution_count": 60,
   "id": "b32c7559-2290-4098-a4f3-fe5980dbb481",
   "metadata": {},
   "outputs": [],
   "source": [
    "SVM_Score=SVM.score(X_test, y_test)"
   ]
  },
  {
   "cell_type": "code",
   "execution_count": 61,
   "id": "6e9cf2c2-2696-4666-b498-6b91d8ada91c",
   "metadata": {},
   "outputs": [
    {
     "name": "stdout",
     "output_type": "stream",
     "text": [
      "SVM Score: 0.34527687296416937\n"
     ]
    }
   ],
   "source": [
    "print('SVM Score:',SVM_Score)"
   ]
  },
  {
   "cell_type": "markdown",
   "id": "73ddd7e7-b0a9-4449-8985-aa1763d5b307",
   "metadata": {},
   "source": [
    "### Random Forest"
   ]
  },
  {
   "cell_type": "code",
   "execution_count": 63,
   "id": "eb257098-0ffe-45b1-8431-5662c69d0c35",
   "metadata": {},
   "outputs": [],
   "source": [
    "from sklearn.ensemble import RandomForestClassifier\n",
    "param_grid_RFC = {\n",
    "    'n_estimators': [50, 100, 200],\n",
    "    'max_depth': [5, 10, 20, None],\n",
    "    'min_samples_split': [2, 5, 10]\n",
    "}"
   ]
  },
  {
   "cell_type": "code",
   "execution_count": 64,
   "id": "339dffa8-645d-4dc3-baaa-b29624ad805b",
   "metadata": {},
   "outputs": [
    {
     "name": "stdout",
     "output_type": "stream",
     "text": [
      "Best Parameters: {'max_depth': 10, 'min_samples_split': 5, 'n_estimators': 200}\n",
      "Best Score: 0.42495921696574224\n"
     ]
    }
   ],
   "source": [
    "grid_RFC=GridSearchCV(RandomForestClassifier(), param_grid_RFC, cv=2, scoring='accuracy', n_jobs=1)\n",
    "grid_RFC.fit(X_train, y_train)\n",
    "print(\"Best Parameters:\", grid_RFC.best_params_)\n",
    "print(\"Best Score:\", grid_RFC.best_score_)"
   ]
  },
  {
   "cell_type": "markdown",
   "id": "da72104c-69e1-49dd-90f9-2eebb429b70b",
   "metadata": {},
   "source": [
    "### XGBoost"
   ]
  },
  {
   "cell_type": "code",
   "execution_count": 65,
   "id": "6602fc97-3807-4547-9068-c216cbfa7d2f",
   "metadata": {},
   "outputs": [],
   "source": [
    "from xgboost import XGBClassifier\n",
    "param_grid_XGB = {\n",
    "    'n_estimators': [100, 200, 300],\n",
    "    'learning_rate': [0.01, 0.1, 0.2],\n",
    "    'max_depth': [3, 5, 10]\n",
    "}"
   ]
  },
  {
   "cell_type": "code",
   "execution_count": 66,
   "id": "1e1ed828-6eb7-4551-8b93-61dafbdfd990",
   "metadata": {},
   "outputs": [
    {
     "name": "stdout",
     "output_type": "stream",
     "text": [
      "Best Parameters: {'learning_rate': 0.01, 'max_depth': 5, 'n_estimators': 200}\n",
      "Best Score: 0.40538336052202284\n"
     ]
    }
   ],
   "source": [
    "grid_XGB=GridSearchCV(XGBClassifier(), param_grid_XGB, cv=2, scoring='accuracy', n_jobs=1)\n",
    "grid_XGB.fit(X_train, y_train)\n",
    "print(\"Best Parameters:\", grid_XGB.best_params_)\n",
    "print(\"Best Score:\", grid_XGB.best_score_)"
   ]
  },
  {
   "cell_type": "markdown",
   "id": "8092bbe4-f297-4a9e-b046-18d1a3ac01f4",
   "metadata": {},
   "source": [
    "### Multi Layer Perceptron"
   ]
  },
  {
   "cell_type": "code",
   "execution_count": 67,
   "id": "01c55d09-32ef-4316-bfd3-bf4751393720",
   "metadata": {},
   "outputs": [],
   "source": [
    "from sklearn.neural_network import MLPClassifier\n",
    "\n",
    "param_grid_MLP = {\n",
    "    'hidden_layer_sizes': [(50,), (100,), (100, 50)],\n",
    "    'activation': ['relu', 'tanh'],\n",
    "    'solver': ['adam', 'sgd']\n",
    "}"
   ]
  },
  {
   "cell_type": "code",
   "execution_count": 70,
   "id": "f7ed9294-5125-4a95-8515-ad296d5afa0c",
   "metadata": {},
   "outputs": [
    {
     "name": "stderr",
     "output_type": "stream",
     "text": [
      "C:\\Users\\USER\\anaconda3\\Lib\\site-packages\\sklearn\\neural_network\\_multilayer_perceptron.py:686: ConvergenceWarning: Stochastic Optimizer: Maximum iterations (500) reached and the optimization hasn't converged yet.\n",
      "  warnings.warn(\n"
     ]
    },
    {
     "data": {
      "text/html": [
       "<style>#sk-container-id-6 {color: black;background-color: white;}#sk-container-id-6 pre{padding: 0;}#sk-container-id-6 div.sk-toggleable {background-color: white;}#sk-container-id-6 label.sk-toggleable__label {cursor: pointer;display: block;width: 100%;margin-bottom: 0;padding: 0.3em;box-sizing: border-box;text-align: center;}#sk-container-id-6 label.sk-toggleable__label-arrow:before {content: \"▸\";float: left;margin-right: 0.25em;color: #696969;}#sk-container-id-6 label.sk-toggleable__label-arrow:hover:before {color: black;}#sk-container-id-6 div.sk-estimator:hover label.sk-toggleable__label-arrow:before {color: black;}#sk-container-id-6 div.sk-toggleable__content {max-height: 0;max-width: 0;overflow: hidden;text-align: left;background-color: #f0f8ff;}#sk-container-id-6 div.sk-toggleable__content pre {margin: 0.2em;color: black;border-radius: 0.25em;background-color: #f0f8ff;}#sk-container-id-6 input.sk-toggleable__control:checked~div.sk-toggleable__content {max-height: 200px;max-width: 100%;overflow: auto;}#sk-container-id-6 input.sk-toggleable__control:checked~label.sk-toggleable__label-arrow:before {content: \"▾\";}#sk-container-id-6 div.sk-estimator input.sk-toggleable__control:checked~label.sk-toggleable__label {background-color: #d4ebff;}#sk-container-id-6 div.sk-label input.sk-toggleable__control:checked~label.sk-toggleable__label {background-color: #d4ebff;}#sk-container-id-6 input.sk-hidden--visually {border: 0;clip: rect(1px 1px 1px 1px);clip: rect(1px, 1px, 1px, 1px);height: 1px;margin: -1px;overflow: hidden;padding: 0;position: absolute;width: 1px;}#sk-container-id-6 div.sk-estimator {font-family: monospace;background-color: #f0f8ff;border: 1px dotted black;border-radius: 0.25em;box-sizing: border-box;margin-bottom: 0.5em;}#sk-container-id-6 div.sk-estimator:hover {background-color: #d4ebff;}#sk-container-id-6 div.sk-parallel-item::after {content: \"\";width: 100%;border-bottom: 1px solid gray;flex-grow: 1;}#sk-container-id-6 div.sk-label:hover label.sk-toggleable__label {background-color: #d4ebff;}#sk-container-id-6 div.sk-serial::before {content: \"\";position: absolute;border-left: 1px solid gray;box-sizing: border-box;top: 0;bottom: 0;left: 50%;z-index: 0;}#sk-container-id-6 div.sk-serial {display: flex;flex-direction: column;align-items: center;background-color: white;padding-right: 0.2em;padding-left: 0.2em;position: relative;}#sk-container-id-6 div.sk-item {position: relative;z-index: 1;}#sk-container-id-6 div.sk-parallel {display: flex;align-items: stretch;justify-content: center;background-color: white;position: relative;}#sk-container-id-6 div.sk-item::before, #sk-container-id-6 div.sk-parallel-item::before {content: \"\";position: absolute;border-left: 1px solid gray;box-sizing: border-box;top: 0;bottom: 0;left: 50%;z-index: -1;}#sk-container-id-6 div.sk-parallel-item {display: flex;flex-direction: column;z-index: 1;position: relative;background-color: white;}#sk-container-id-6 div.sk-parallel-item:first-child::after {align-self: flex-end;width: 50%;}#sk-container-id-6 div.sk-parallel-item:last-child::after {align-self: flex-start;width: 50%;}#sk-container-id-6 div.sk-parallel-item:only-child::after {width: 0;}#sk-container-id-6 div.sk-dashed-wrapped {border: 1px dashed gray;margin: 0 0.4em 0.5em 0.4em;box-sizing: border-box;padding-bottom: 0.4em;background-color: white;}#sk-container-id-6 div.sk-label label {font-family: monospace;font-weight: bold;display: inline-block;line-height: 1.2em;}#sk-container-id-6 div.sk-label-container {text-align: center;}#sk-container-id-6 div.sk-container {/* jupyter's `normalize.less` sets `[hidden] { display: none; }` but bootstrap.min.css set `[hidden] { display: none !important; }` so we also need the `!important` here to be able to override the default hidden behavior on the sphinx rendered scikit-learn.org. See: https://github.com/scikit-learn/scikit-learn/issues/21755 */display: inline-block !important;position: relative;}#sk-container-id-6 div.sk-text-repr-fallback {display: none;}</style><div id=\"sk-container-id-6\" class=\"sk-top-container\"><div class=\"sk-text-repr-fallback\"><pre>GridSearchCV(cv=2, estimator=MLPClassifier(max_iter=500), n_jobs=-1,\n",
       "             param_grid={&#x27;activation&#x27;: [&#x27;relu&#x27;, &#x27;tanh&#x27;],\n",
       "                         &#x27;hidden_layer_sizes&#x27;: [(50,), (100,), (100, 50)],\n",
       "                         &#x27;solver&#x27;: [&#x27;adam&#x27;, &#x27;sgd&#x27;]},\n",
       "             scoring=&#x27;accuracy&#x27;)</pre><b>In a Jupyter environment, please rerun this cell to show the HTML representation or trust the notebook. <br />On GitHub, the HTML representation is unable to render, please try loading this page with nbviewer.org.</b></div><div class=\"sk-container\" hidden><div class=\"sk-item sk-dashed-wrapped\"><div class=\"sk-label-container\"><div class=\"sk-label sk-toggleable\"><input class=\"sk-toggleable__control sk-hidden--visually\" id=\"sk-estimator-id-16\" type=\"checkbox\" ><label for=\"sk-estimator-id-16\" class=\"sk-toggleable__label sk-toggleable__label-arrow\">GridSearchCV</label><div class=\"sk-toggleable__content\"><pre>GridSearchCV(cv=2, estimator=MLPClassifier(max_iter=500), n_jobs=-1,\n",
       "             param_grid={&#x27;activation&#x27;: [&#x27;relu&#x27;, &#x27;tanh&#x27;],\n",
       "                         &#x27;hidden_layer_sizes&#x27;: [(50,), (100,), (100, 50)],\n",
       "                         &#x27;solver&#x27;: [&#x27;adam&#x27;, &#x27;sgd&#x27;]},\n",
       "             scoring=&#x27;accuracy&#x27;)</pre></div></div></div><div class=\"sk-parallel\"><div class=\"sk-parallel-item\"><div class=\"sk-item\"><div class=\"sk-label-container\"><div class=\"sk-label sk-toggleable\"><input class=\"sk-toggleable__control sk-hidden--visually\" id=\"sk-estimator-id-17\" type=\"checkbox\" ><label for=\"sk-estimator-id-17\" class=\"sk-toggleable__label sk-toggleable__label-arrow\">estimator: MLPClassifier</label><div class=\"sk-toggleable__content\"><pre>MLPClassifier(max_iter=500)</pre></div></div></div><div class=\"sk-serial\"><div class=\"sk-item\"><div class=\"sk-estimator sk-toggleable\"><input class=\"sk-toggleable__control sk-hidden--visually\" id=\"sk-estimator-id-18\" type=\"checkbox\" ><label for=\"sk-estimator-id-18\" class=\"sk-toggleable__label sk-toggleable__label-arrow\">MLPClassifier</label><div class=\"sk-toggleable__content\"><pre>MLPClassifier(max_iter=500)</pre></div></div></div></div></div></div></div></div></div></div>"
      ],
      "text/plain": [
       "GridSearchCV(cv=2, estimator=MLPClassifier(max_iter=500), n_jobs=-1,\n",
       "             param_grid={'activation': ['relu', 'tanh'],\n",
       "                         'hidden_layer_sizes': [(50,), (100,), (100, 50)],\n",
       "                         'solver': ['adam', 'sgd']},\n",
       "             scoring='accuracy')"
      ]
     },
     "execution_count": 70,
     "metadata": {},
     "output_type": "execute_result"
    }
   ],
   "source": [
    "grid_MLP = GridSearchCV(MLPClassifier(max_iter=500), param_grid_MLP, cv=2, scoring='accuracy', n_jobs=-1)\n",
    "grid_MLP.fit(X_train, y_train)"
   ]
  },
  {
   "cell_type": "code",
   "execution_count": 71,
   "id": "b89f009d-aa2a-4bfd-84de-de8de6197255",
   "metadata": {},
   "outputs": [
    {
     "name": "stdout",
     "output_type": "stream",
     "text": [
      "Best Parameters: {'activation': 'tanh', 'hidden_layer_sizes': (50,), 'solver': 'adam'}\n",
      "Best Score: 0.41190864600326266\n"
     ]
    }
   ],
   "source": [
    "print(\"Best Parameters:\", grid_MLP.best_params_)\n",
    "print(\"Best Score:\", grid_MLP.best_score_)"
   ]
  },
  {
   "cell_type": "markdown",
   "id": "d98a6213-afb6-498e-be61-485f078a72a4",
   "metadata": {},
   "source": [
    "### CatBoost"
   ]
  },
  {
   "cell_type": "code",
   "execution_count": 73,
   "id": "f597d66d-017b-446b-839e-08243f3030ae",
   "metadata": {},
   "outputs": [],
   "source": [
    "from catboost import CatBoostClassifier\n",
    "\n",
    "param_grid_CBC = {\n",
    "    'iterations': [100, 200, 300],\n",
    "    'learning_rate': [0.01, 0.1, 0.2],\n",
    "    'depth': [4, 6, 8]\n",
    "}"
   ]
  },
  {
   "cell_type": "code",
   "execution_count": 74,
   "id": "f75c4646-11ec-411b-8da4-360b42f181ca",
   "metadata": {},
   "outputs": [
    {
     "name": "stderr",
     "output_type": "stream",
     "text": [
      "C:\\Users\\USER\\anaconda3\\Lib\\site-packages\\sklearn\\model_selection\\_validation.py:378: FitFailedWarning: \n",
      "2 fits failed out of a total of 54.\n",
      "The score on these train-test partitions for these parameters will be set to nan.\n",
      "If these failures are not expected, you can try to debug them by setting error_score='raise'.\n",
      "\n",
      "Below are more details about the failures:\n",
      "--------------------------------------------------------------------------------\n",
      "2 fits failed with the following error:\n",
      "Traceback (most recent call last):\n",
      "  File \"C:\\Users\\USER\\anaconda3\\Lib\\site-packages\\sklearn\\model_selection\\_validation.py\", line 686, in _fit_and_score\n",
      "    estimator.fit(X_train, y_train, **fit_params)\n",
      "  File \"C:\\Users\\USER\\anaconda3\\Lib\\site-packages\\catboost\\core.py\", line 5245, in fit\n",
      "    self._fit(X, y, cat_features, text_features, embedding_features, None, graph, sample_weight, None, None, None, None, baseline, use_best_model,\n",
      "  File \"C:\\Users\\USER\\anaconda3\\Lib\\site-packages\\catboost\\core.py\", line 2410, in _fit\n",
      "    self._train(\n",
      "  File \"C:\\Users\\USER\\anaconda3\\Lib\\site-packages\\catboost\\core.py\", line 1790, in _train\n",
      "    self._object._train(train_pool, test_pool, params, allow_clear_pool, init_model._object if init_model else None)\n",
      "  File \"_catboost.pyx\", line 5017, in _catboost._CatBoost._train\n",
      "  File \"_catboost.pyx\", line 5066, in _catboost._CatBoost._train\n",
      "_catboost.CatBoostError: catboost/libs/train_lib/dir_helper.cpp:26: Can't create train tmp dir: tmp\n",
      "\n",
      "  warnings.warn(some_fits_failed_message, FitFailedWarning)\n",
      "C:\\Users\\USER\\anaconda3\\Lib\\site-packages\\sklearn\\model_selection\\_search.py:952: UserWarning: One or more of the test scores are non-finite: [0.41027732        nan 0.42169657        nan 0.42414356 0.41843393\n",
      " 0.41843393 0.42659054 0.41109299 0.40946166 0.42985318 0.42169657\n",
      " 0.41435563 0.42903752 0.42006525 0.41680261 0.4233279  0.42006525\n",
      " 0.41598695 0.42414356 0.40701468 0.41598695 0.4233279  0.4233279\n",
      " 0.41190865 0.42088091 0.41680261]\n",
      "  warnings.warn(\n"
     ]
    },
    {
     "data": {
      "text/html": [
       "<style>#sk-container-id-7 {color: black;background-color: white;}#sk-container-id-7 pre{padding: 0;}#sk-container-id-7 div.sk-toggleable {background-color: white;}#sk-container-id-7 label.sk-toggleable__label {cursor: pointer;display: block;width: 100%;margin-bottom: 0;padding: 0.3em;box-sizing: border-box;text-align: center;}#sk-container-id-7 label.sk-toggleable__label-arrow:before {content: \"▸\";float: left;margin-right: 0.25em;color: #696969;}#sk-container-id-7 label.sk-toggleable__label-arrow:hover:before {color: black;}#sk-container-id-7 div.sk-estimator:hover label.sk-toggleable__label-arrow:before {color: black;}#sk-container-id-7 div.sk-toggleable__content {max-height: 0;max-width: 0;overflow: hidden;text-align: left;background-color: #f0f8ff;}#sk-container-id-7 div.sk-toggleable__content pre {margin: 0.2em;color: black;border-radius: 0.25em;background-color: #f0f8ff;}#sk-container-id-7 input.sk-toggleable__control:checked~div.sk-toggleable__content {max-height: 200px;max-width: 100%;overflow: auto;}#sk-container-id-7 input.sk-toggleable__control:checked~label.sk-toggleable__label-arrow:before {content: \"▾\";}#sk-container-id-7 div.sk-estimator input.sk-toggleable__control:checked~label.sk-toggleable__label {background-color: #d4ebff;}#sk-container-id-7 div.sk-label input.sk-toggleable__control:checked~label.sk-toggleable__label {background-color: #d4ebff;}#sk-container-id-7 input.sk-hidden--visually {border: 0;clip: rect(1px 1px 1px 1px);clip: rect(1px, 1px, 1px, 1px);height: 1px;margin: -1px;overflow: hidden;padding: 0;position: absolute;width: 1px;}#sk-container-id-7 div.sk-estimator {font-family: monospace;background-color: #f0f8ff;border: 1px dotted black;border-radius: 0.25em;box-sizing: border-box;margin-bottom: 0.5em;}#sk-container-id-7 div.sk-estimator:hover {background-color: #d4ebff;}#sk-container-id-7 div.sk-parallel-item::after {content: \"\";width: 100%;border-bottom: 1px solid gray;flex-grow: 1;}#sk-container-id-7 div.sk-label:hover label.sk-toggleable__label {background-color: #d4ebff;}#sk-container-id-7 div.sk-serial::before {content: \"\";position: absolute;border-left: 1px solid gray;box-sizing: border-box;top: 0;bottom: 0;left: 50%;z-index: 0;}#sk-container-id-7 div.sk-serial {display: flex;flex-direction: column;align-items: center;background-color: white;padding-right: 0.2em;padding-left: 0.2em;position: relative;}#sk-container-id-7 div.sk-item {position: relative;z-index: 1;}#sk-container-id-7 div.sk-parallel {display: flex;align-items: stretch;justify-content: center;background-color: white;position: relative;}#sk-container-id-7 div.sk-item::before, #sk-container-id-7 div.sk-parallel-item::before {content: \"\";position: absolute;border-left: 1px solid gray;box-sizing: border-box;top: 0;bottom: 0;left: 50%;z-index: -1;}#sk-container-id-7 div.sk-parallel-item {display: flex;flex-direction: column;z-index: 1;position: relative;background-color: white;}#sk-container-id-7 div.sk-parallel-item:first-child::after {align-self: flex-end;width: 50%;}#sk-container-id-7 div.sk-parallel-item:last-child::after {align-self: flex-start;width: 50%;}#sk-container-id-7 div.sk-parallel-item:only-child::after {width: 0;}#sk-container-id-7 div.sk-dashed-wrapped {border: 1px dashed gray;margin: 0 0.4em 0.5em 0.4em;box-sizing: border-box;padding-bottom: 0.4em;background-color: white;}#sk-container-id-7 div.sk-label label {font-family: monospace;font-weight: bold;display: inline-block;line-height: 1.2em;}#sk-container-id-7 div.sk-label-container {text-align: center;}#sk-container-id-7 div.sk-container {/* jupyter's `normalize.less` sets `[hidden] { display: none; }` but bootstrap.min.css set `[hidden] { display: none !important; }` so we also need the `!important` here to be able to override the default hidden behavior on the sphinx rendered scikit-learn.org. See: https://github.com/scikit-learn/scikit-learn/issues/21755 */display: inline-block !important;position: relative;}#sk-container-id-7 div.sk-text-repr-fallback {display: none;}</style><div id=\"sk-container-id-7\" class=\"sk-top-container\"><div class=\"sk-text-repr-fallback\"><pre>GridSearchCV(cv=2,\n",
       "             estimator=&lt;catboost.core.CatBoostClassifier object at 0x000002216102E010&gt;,\n",
       "             n_jobs=-1,\n",
       "             param_grid={&#x27;depth&#x27;: [4, 6, 8], &#x27;iterations&#x27;: [100, 200, 300],\n",
       "                         &#x27;learning_rate&#x27;: [0.01, 0.1, 0.2]},\n",
       "             scoring=&#x27;accuracy&#x27;)</pre><b>In a Jupyter environment, please rerun this cell to show the HTML representation or trust the notebook. <br />On GitHub, the HTML representation is unable to render, please try loading this page with nbviewer.org.</b></div><div class=\"sk-container\" hidden><div class=\"sk-item sk-dashed-wrapped\"><div class=\"sk-label-container\"><div class=\"sk-label sk-toggleable\"><input class=\"sk-toggleable__control sk-hidden--visually\" id=\"sk-estimator-id-19\" type=\"checkbox\" ><label for=\"sk-estimator-id-19\" class=\"sk-toggleable__label sk-toggleable__label-arrow\">GridSearchCV</label><div class=\"sk-toggleable__content\"><pre>GridSearchCV(cv=2,\n",
       "             estimator=&lt;catboost.core.CatBoostClassifier object at 0x000002216102E010&gt;,\n",
       "             n_jobs=-1,\n",
       "             param_grid={&#x27;depth&#x27;: [4, 6, 8], &#x27;iterations&#x27;: [100, 200, 300],\n",
       "                         &#x27;learning_rate&#x27;: [0.01, 0.1, 0.2]},\n",
       "             scoring=&#x27;accuracy&#x27;)</pre></div></div></div><div class=\"sk-parallel\"><div class=\"sk-parallel-item\"><div class=\"sk-item\"><div class=\"sk-label-container\"><div class=\"sk-label sk-toggleable\"><input class=\"sk-toggleable__control sk-hidden--visually\" id=\"sk-estimator-id-20\" type=\"checkbox\" ><label for=\"sk-estimator-id-20\" class=\"sk-toggleable__label sk-toggleable__label-arrow\">estimator: CatBoostClassifier</label><div class=\"sk-toggleable__content\"><pre>&lt;catboost.core.CatBoostClassifier object at 0x000002216102E010&gt;</pre></div></div></div><div class=\"sk-serial\"><div class=\"sk-item\"><div class=\"sk-estimator sk-toggleable\"><input class=\"sk-toggleable__control sk-hidden--visually\" id=\"sk-estimator-id-21\" type=\"checkbox\" ><label for=\"sk-estimator-id-21\" class=\"sk-toggleable__label sk-toggleable__label-arrow\">CatBoostClassifier</label><div class=\"sk-toggleable__content\"><pre>&lt;catboost.core.CatBoostClassifier object at 0x000002216102E010&gt;</pre></div></div></div></div></div></div></div></div></div></div>"
      ],
      "text/plain": [
       "GridSearchCV(cv=2,\n",
       "             estimator=<catboost.core.CatBoostClassifier object at 0x000002216102E010>,\n",
       "             n_jobs=-1,\n",
       "             param_grid={'depth': [4, 6, 8], 'iterations': [100, 200, 300],\n",
       "                         'learning_rate': [0.01, 0.1, 0.2]},\n",
       "             scoring='accuracy')"
      ]
     },
     "execution_count": 74,
     "metadata": {},
     "output_type": "execute_result"
    }
   ],
   "source": [
    "grid_CBC = GridSearchCV(CatBoostClassifier(verbose=0), param_grid_CBC, cv=2, scoring='accuracy', n_jobs=-1)\n",
    "grid_CBC.fit(X_train, y_train)"
   ]
  },
  {
   "cell_type": "code",
   "execution_count": 76,
   "id": "d85fae61-666d-4fee-abc8-e86a451d066b",
   "metadata": {},
   "outputs": [
    {
     "name": "stdout",
     "output_type": "stream",
     "text": [
      "Best Parameters: {'depth': 6, 'iterations': 100, 'learning_rate': 0.1}\n",
      "Best Score: 0.4298531810766721\n"
     ]
    }
   ],
   "source": [
    "print(\"Best Parameters:\", grid_CBC.best_params_)\n",
    "print(\"Best Score:\", grid_CBC.best_score_)"
   ]
  },
  {
   "cell_type": "markdown",
   "id": "b96a9f80-7d73-4324-9e47-0879ffc5df7b",
   "metadata": {},
   "source": [
    "## Parameter and Scoring Comparing"
   ]
  },
  {
   "cell_type": "code",
   "execution_count": 89,
   "id": "1df5933b-d83e-460a-886b-71534ca854dc",
   "metadata": {},
   "outputs": [],
   "source": [
    "best_models = {\n",
    "    \"Random Forest\": grid_RFC.best_params_,\n",
    "    \"SVM\": SVM.best_params_,\n",
    "    \"XGBoost\": grid_XGB.best_params_,\n",
    "    \"CatBoost\": grid_CBC.best_params_,\n",
    "    \"MLP Neural Network\": grid_MLP.best_params_\n",
    "}\n",
    "df_best = pd.DataFrame(best_models.items(), columns=[\"Model\", \"Best Parameters\"])"
   ]
  },
  {
   "cell_type": "code",
   "execution_count": 90,
   "id": "727080f7-4e5e-40c2-996a-757ec2f7a8f7",
   "metadata": {},
   "outputs": [],
   "source": [
    "best_model_scores = {\n",
    "    \"Random Forest\": grid_RFC.best_score_,\n",
    "    \"SVM\": SVM.best_score_,\n",
    "    \"XGBoost\": grid_XGB.best_score_,\n",
    "    \"CatBoost\": grid_CBC.best_score_,\n",
    "    \"MLP Neural Network\": grid_MLP.best_score_\n",
    "}\n",
    "df_best_score = pd.DataFrame(best_model_scores.items(), columns=[\"Model\", \"Best Scores\"])"
   ]
  },
  {
   "cell_type": "code",
   "execution_count": 99,
   "id": "468afff1-b57a-4d73-aa77-2c915dabdc8b",
   "metadata": {},
   "outputs": [
    {
     "name": "stdout",
     "output_type": "stream",
     "text": [
      "                Model  Best Scores\n",
      "0       Random Forest     0.424959\n",
      "1                 SVM     0.402936\n",
      "2             XGBoost     0.405383\n",
      "3            CatBoost     0.429853\n",
      "4  MLP Neural Network     0.411909\n"
     ]
    }
   ],
   "source": [
    "print(df_best_score)"
   ]
  },
  {
   "cell_type": "markdown",
   "id": "1a36d7c9-3627-4876-954f-9de1e9df9ec2",
   "metadata": {},
   "source": [
    "## Classification Reports"
   ]
  },
  {
   "cell_type": "code",
   "execution_count": 97,
   "id": "71d4b6df-0f58-44af-bcd4-cbe12f99f3da",
   "metadata": {},
   "outputs": [],
   "source": [
    "y_pred_rfc = grid_RFC.best_estimator_.predict(X_test)\n",
    "y_pred_svm = SVM.best_estimator_.predict(X_test)\n",
    "y_pred_xgb = grid_XGB.best_estimator_.predict(X_test)\n",
    "y_pred_cbc = grid_CBC.best_estimator_.predict(X_test)\n",
    "y_pred_mlp = grid_MLP.best_estimator_.predict(X_test)"
   ]
  },
  {
   "cell_type": "code",
   "execution_count": 98,
   "id": "897f931f-741a-4c9e-9bac-cfccd730030f",
   "metadata": {},
   "outputs": [
    {
     "name": "stdout",
     "output_type": "stream",
     "text": [
      "              precision    recall  f1-score     support               Model\n",
      "AM(C)          0.000000  0.000000  0.000000    6.000000       Random Forest\n",
      "AM(CL)         1.000000  0.000000  0.000000    8.000000       Random Forest\n",
      "AM(CLR)        0.255319  0.521739  0.342857   23.000000       Random Forest\n",
      "AM(CR)         1.000000  0.000000  0.000000   16.000000       Random Forest\n",
      "AM(L)          1.000000  0.000000  0.000000    3.000000       Random Forest\n",
      "...                 ...       ...       ...         ...                 ...\n",
      "M(R)           1.000000  0.000000  0.000000    1.000000  MLP Neural Network\n",
      "RB             0.142857  0.050000  0.074074   20.000000  MLP Neural Network\n",
      "accuracy       0.371336  0.371336  0.371336    0.371336  MLP Neural Network\n",
      "macro avg      0.552060  0.234984  0.194879  307.000000  MLP Neural Network\n",
      "weighted avg   0.427649  0.371336  0.306228  307.000000  MLP Neural Network\n",
      "\n",
      "[135 rows x 5 columns]\n"
     ]
    },
    {
     "name": "stderr",
     "output_type": "stream",
     "text": [
      "C:\\Users\\USER\\anaconda3\\Lib\\site-packages\\sklearn\\preprocessing\\_label.py:155: DataConversionWarning: A column-vector y was passed when a 1d array was expected. Please change the shape of y to (n_samples, ), for example using ravel().\n",
      "  y = column_or_1d(y, warn=True)\n"
     ]
    }
   ],
   "source": [
    "from sklearn.metrics import classification_report\n",
    "\n",
    "y_test_labels = label_encoder.inverse_transform(y_test)\n",
    "\n",
    "y_pred_rfc_labels = label_encoder.inverse_transform(y_pred_rfc)\n",
    "y_pred_svm_labels = label_encoder.inverse_transform(y_pred_svm)\n",
    "y_pred_xgb_labels = label_encoder.inverse_transform(y_pred_xgb)\n",
    "y_pred_cbc_labels = label_encoder.inverse_transform(y_pred_cbc)\n",
    "y_pred_mlp_labels = label_encoder.inverse_transform(y_pred_mlp)\n",
    "\n",
    "reports = {\n",
    "    \"Random Forest\": classification_report(y_test_labels, y_pred_rfc_labels, output_dict=True, zero_division=1),\n",
    "    \"SVM\": classification_report(y_test_labels, y_pred_svm_labels, output_dict=True, zero_division=1),\n",
    "    \"XGBoost\": classification_report(y_test_labels, y_pred_xgb_labels, output_dict=True, zero_division=1),\n",
    "    \"CatBoost\": classification_report(y_test_labels, y_pred_cbc_labels, output_dict=True, zero_division=1),\n",
    "    \"MLP Neural Network\": classification_report(y_test_labels, y_pred_mlp_labels, output_dict=True, zero_division=1),\n",
    "}\n",
    "\n",
    "df_reports = {}\n",
    "for model, report in reports.items():\n",
    "    df = pd.DataFrame(report).transpose()\n",
    "    df[\"Model\"] = model  \n",
    "    df_reports[model] = df\n",
    "\n",
    "df_classification_reports = pd.concat(df_reports.values())\n",
    "\n",
    "print(df_classification_reports)\n"
   ]
  },
  {
   "cell_type": "code",
   "execution_count": null,
   "id": "19001db1-c290-4484-83ff-a540b7450319",
   "metadata": {},
   "outputs": [],
   "source": []
  },
  {
   "cell_type": "code",
   "execution_count": 3,
   "id": "fa4fc6d6-d75b-4711-8d8e-dbf98448b299",
   "metadata": {},
   "outputs": [
    {
     "data": {
      "text/html": [
       "<div>\n",
       "<style scoped>\n",
       "    .dataframe tbody tr th:only-of-type {\n",
       "        vertical-align: middle;\n",
       "    }\n",
       "\n",
       "    .dataframe tbody tr th {\n",
       "        vertical-align: top;\n",
       "    }\n",
       "\n",
       "    .dataframe thead th {\n",
       "        text-align: right;\n",
       "    }\n",
       "</style>\n",
       "<table border=\"1\" class=\"dataframe\">\n",
       "  <thead>\n",
       "    <tr style=\"text-align: right;\">\n",
       "      <th></th>\n",
       "      <th>Player Name</th>\n",
       "      <th>Player Team</th>\n",
       "      <th>Team Formation</th>\n",
       "      <th>Player Age</th>\n",
       "      <th>Player Height</th>\n",
       "      <th>Position 1</th>\n",
       "      <th>Position 2</th>\n",
       "      <th>Mins Played</th>\n",
       "      <th>tacklePerGame</th>\n",
       "      <th>interceptionPerGame</th>\n",
       "      <th>...</th>\n",
       "      <th>totalPassesPerGame</th>\n",
       "      <th>passSuccess</th>\n",
       "      <th>accurateCrossesPerGame</th>\n",
       "      <th>accurateLongPassPerGame</th>\n",
       "      <th>accurateThroughBallPerGame</th>\n",
       "      <th>xG</th>\n",
       "      <th>xGPerNinety</th>\n",
       "      <th>totalShots</th>\n",
       "      <th>xGPerShot</th>\n",
       "      <th>rating</th>\n",
       "    </tr>\n",
       "  </thead>\n",
       "  <tbody>\n",
       "    <tr>\n",
       "      <th>0</th>\n",
       "      <td>Lamine Yamal</td>\n",
       "      <td>Barcelona</td>\n",
       "      <td>4-2-3-1</td>\n",
       "      <td>17</td>\n",
       "      <td>180</td>\n",
       "      <td>AM(R)</td>\n",
       "      <td>AM(R)</td>\n",
       "      <td>1885</td>\n",
       "      <td>1.3</td>\n",
       "      <td>0.5</td>\n",
       "      <td>...</td>\n",
       "      <td>35.4</td>\n",
       "      <td>78.0</td>\n",
       "      <td>0.6</td>\n",
       "      <td>0.8</td>\n",
       "      <td>0.4</td>\n",
       "      <td>7.38</td>\n",
       "      <td>0.35</td>\n",
       "      <td>82.0</td>\n",
       "      <td>0.09</td>\n",
       "      <td>7.96</td>\n",
       "    </tr>\n",
       "    <tr>\n",
       "      <th>1</th>\n",
       "      <td>Mohamed Salah</td>\n",
       "      <td>Liverpool</td>\n",
       "      <td>4-2-3-1</td>\n",
       "      <td>32</td>\n",
       "      <td>175</td>\n",
       "      <td>AM(CLR)</td>\n",
       "      <td>FW</td>\n",
       "      <td>2485</td>\n",
       "      <td>0.6</td>\n",
       "      <td>0.1</td>\n",
       "      <td>...</td>\n",
       "      <td>30.1</td>\n",
       "      <td>73.7</td>\n",
       "      <td>0.5</td>\n",
       "      <td>0.8</td>\n",
       "      <td>0.2</td>\n",
       "      <td>20.84</td>\n",
       "      <td>0.75</td>\n",
       "      <td>101.0</td>\n",
       "      <td>0.21</td>\n",
       "      <td>7.89</td>\n",
       "    </tr>\n",
       "    <tr>\n",
       "      <th>2</th>\n",
       "      <td>Harry Kane</td>\n",
       "      <td>Bayern</td>\n",
       "      <td>4-2-3-1</td>\n",
       "      <td>31</td>\n",
       "      <td>188</td>\n",
       "      <td>AM(C)</td>\n",
       "      <td>FW</td>\n",
       "      <td>1738</td>\n",
       "      <td>0.3</td>\n",
       "      <td>0.1</td>\n",
       "      <td>...</td>\n",
       "      <td>20.4</td>\n",
       "      <td>81.1</td>\n",
       "      <td>0.2</td>\n",
       "      <td>1.4</td>\n",
       "      <td>0.5</td>\n",
       "      <td>18.32</td>\n",
       "      <td>0.95</td>\n",
       "      <td>82.0</td>\n",
       "      <td>0.22</td>\n",
       "      <td>7.86</td>\n",
       "    </tr>\n",
       "    <tr>\n",
       "      <th>3</th>\n",
       "      <td>Ousmane Dembélé</td>\n",
       "      <td>PSG</td>\n",
       "      <td>4-3-3</td>\n",
       "      <td>27</td>\n",
       "      <td>178</td>\n",
       "      <td>AM(CLR)</td>\n",
       "      <td>FW</td>\n",
       "      <td>1373</td>\n",
       "      <td>0.5</td>\n",
       "      <td>0.4</td>\n",
       "      <td>...</td>\n",
       "      <td>34.5</td>\n",
       "      <td>83.7</td>\n",
       "      <td>1.3</td>\n",
       "      <td>1.1</td>\n",
       "      <td>0.2</td>\n",
       "      <td>13.08</td>\n",
       "      <td>0.86</td>\n",
       "      <td>73.0</td>\n",
       "      <td>0.18</td>\n",
       "      <td>7.85</td>\n",
       "    </tr>\n",
       "    <tr>\n",
       "      <th>4</th>\n",
       "      <td>Bukayo Saka</td>\n",
       "      <td>Arsenal</td>\n",
       "      <td>4-3-3</td>\n",
       "      <td>23</td>\n",
       "      <td>178</td>\n",
       "      <td>LB</td>\n",
       "      <td>M(CLR)</td>\n",
       "      <td>1276</td>\n",
       "      <td>1.4</td>\n",
       "      <td>0.1</td>\n",
       "      <td>...</td>\n",
       "      <td>27.1</td>\n",
       "      <td>84.3</td>\n",
       "      <td>1.9</td>\n",
       "      <td>0.3</td>\n",
       "      <td>0.1</td>\n",
       "      <td>4.79</td>\n",
       "      <td>0.34</td>\n",
       "      <td>46.0</td>\n",
       "      <td>0.10</td>\n",
       "      <td>7.79</td>\n",
       "    </tr>\n",
       "  </tbody>\n",
       "</table>\n",
       "<p>5 rows × 32 columns</p>\n",
       "</div>"
      ],
      "text/plain": [
       "       Player Name Player Team Team Formation  Player Age  Player Height  \\\n",
       "0     Lamine Yamal   Barcelona        4-2-3-1          17            180   \n",
       "1    Mohamed Salah   Liverpool        4-2-3-1          32            175   \n",
       "2       Harry Kane      Bayern        4-2-3-1          31            188   \n",
       "3  Ousmane Dembélé         PSG          4-3-3          27            178   \n",
       "4      Bukayo Saka     Arsenal          4-3-3          23            178   \n",
       "\n",
       "  Position 1 Position 2  Mins Played  tacklePerGame  interceptionPerGame  ...  \\\n",
       "0      AM(R)      AM(R)         1885            1.3                  0.5  ...   \n",
       "1    AM(CLR)         FW         2485            0.6                  0.1  ...   \n",
       "2      AM(C)         FW         1738            0.3                  0.1  ...   \n",
       "3    AM(CLR)         FW         1373            0.5                  0.4  ...   \n",
       "4         LB     M(CLR)         1276            1.4                  0.1  ...   \n",
       "\n",
       "   totalPassesPerGame  passSuccess  accurateCrossesPerGame  \\\n",
       "0                35.4         78.0                     0.6   \n",
       "1                30.1         73.7                     0.5   \n",
       "2                20.4         81.1                     0.2   \n",
       "3                34.5         83.7                     1.3   \n",
       "4                27.1         84.3                     1.9   \n",
       "\n",
       "   accurateLongPassPerGame  accurateThroughBallPerGame     xG  xGPerNinety  \\\n",
       "0                      0.8                         0.4   7.38         0.35   \n",
       "1                      0.8                         0.2  20.84         0.75   \n",
       "2                      1.4                         0.5  18.32         0.95   \n",
       "3                      1.1                         0.2  13.08         0.86   \n",
       "4                      0.3                         0.1   4.79         0.34   \n",
       "\n",
       "   totalShots  xGPerShot  rating  \n",
       "0        82.0       0.09    7.96  \n",
       "1       101.0       0.21    7.89  \n",
       "2        82.0       0.22    7.86  \n",
       "3        73.0       0.18    7.85  \n",
       "4        46.0       0.10    7.79  \n",
       "\n",
       "[5 rows x 32 columns]"
      ]
     },
     "execution_count": 3,
     "metadata": {},
     "output_type": "execute_result"
    }
   ],
   "source": [
    "df=pd.read_csv(\"Football_Player_Data-1.csv\")\n",
    "df.head()"
   ]
  },
  {
   "cell_type": "code",
   "execution_count": 4,
   "id": "db1fbd3d-534a-4d2d-9671-c28be80ed36c",
   "metadata": {},
   "outputs": [
    {
     "data": {
      "text/plain": [
       "Player Name                      0\n",
       "Player Team                      0\n",
       "Team Formation                   0\n",
       "Player Age                       0\n",
       "Player Height                    0\n",
       "Position 1                       0\n",
       "Position 2                       0\n",
       "Mins Played                      0\n",
       "tacklePerGame                   73\n",
       "interceptionPerGame            153\n",
       "foulsPerGame                    83\n",
       "clearancePerGame                13\n",
       "wasDribbledPerGame              77\n",
       "goal                           581\n",
       "assistTotal                    590\n",
       "shotsPerGame                    99\n",
       "keyPassPerGame                  96\n",
       "dribbleWonPerGame              154\n",
       "foulGivenPerGame                22\n",
       "offsideGivenPerGame            736\n",
       "dispossessedPerGame            144\n",
       "turnoverPerGame                 71\n",
       "totalPassesPerGame               4\n",
       "passSuccess                      4\n",
       "accurateCrossesPerGame         502\n",
       "accurateLongPassPerGame         42\n",
       "accurateThroughBallPerGame    1022\n",
       "xG                             127\n",
       "xGPerNinety                    127\n",
       "totalShots                     127\n",
       "xGPerShot                      127\n",
       "rating                           0\n",
       "dtype: int64"
      ]
     },
     "execution_count": 4,
     "metadata": {},
     "output_type": "execute_result"
    }
   ],
   "source": [
    "df.isnull().sum()"
   ]
  },
  {
   "cell_type": "code",
   "execution_count": 5,
   "id": "b67fb286-fa69-46d6-98f1-fdf3b108d5f6",
   "metadata": {},
   "outputs": [
    {
     "name": "stdout",
     "output_type": "stream",
     "text": [
      "<class 'pandas.core.frame.DataFrame'>\n",
      "RangeIndex: 1533 entries, 0 to 1532\n",
      "Data columns (total 32 columns):\n",
      " #   Column                      Non-Null Count  Dtype  \n",
      "---  ------                      --------------  -----  \n",
      " 0   Player Name                 1533 non-null   object \n",
      " 1   Player Team                 1533 non-null   object \n",
      " 2   Team Formation              1533 non-null   object \n",
      " 3   Player Age                  1533 non-null   int64  \n",
      " 4   Player Height               1533 non-null   int64  \n",
      " 5   Position 1                  1533 non-null   object \n",
      " 6   Position 2                  1533 non-null   object \n",
      " 7   Mins Played                 1533 non-null   int64  \n",
      " 8   tacklePerGame               1460 non-null   float64\n",
      " 9   interceptionPerGame         1380 non-null   float64\n",
      " 10  foulsPerGame                1450 non-null   float64\n",
      " 11  clearancePerGame            1520 non-null   float64\n",
      " 12  wasDribbledPerGame          1456 non-null   float64\n",
      " 13  goal                        952 non-null    float64\n",
      " 14  assistTotal                 943 non-null    float64\n",
      " 15  shotsPerGame                1434 non-null   float64\n",
      " 16  keyPassPerGame              1437 non-null   float64\n",
      " 17  dribbleWonPerGame           1379 non-null   float64\n",
      " 18  foulGivenPerGame            1511 non-null   float64\n",
      " 19  offsideGivenPerGame         797 non-null    float64\n",
      " 20  dispossessedPerGame         1389 non-null   float64\n",
      " 21  turnoverPerGame             1462 non-null   float64\n",
      " 22  totalPassesPerGame          1529 non-null   float64\n",
      " 23  passSuccess                 1529 non-null   float64\n",
      " 24  accurateCrossesPerGame      1031 non-null   float64\n",
      " 25  accurateLongPassPerGame     1491 non-null   float64\n",
      " 26  accurateThroughBallPerGame  511 non-null    float64\n",
      " 27  xG                          1406 non-null   float64\n",
      " 28  xGPerNinety                 1406 non-null   object \n",
      " 29  totalShots                  1406 non-null   float64\n",
      " 30  xGPerShot                   1406 non-null   float64\n",
      " 31  rating                      1533 non-null   float64\n",
      "dtypes: float64(23), int64(3), object(6)\n",
      "memory usage: 383.4+ KB\n"
     ]
    }
   ],
   "source": [
    "df.info()"
   ]
  },
  {
   "cell_type": "code",
   "execution_count": 6,
   "id": "9725a557-9a9c-41ac-8781-90bd0173a136",
   "metadata": {},
   "outputs": [
    {
     "data": {
      "text/plain": [
       "Player Name                      0\n",
       "Player Team                      0\n",
       "Team Formation                   0\n",
       "Player Age                       0\n",
       "Player Height                    0\n",
       "Position 1                       0\n",
       "Position 2                       0\n",
       "Mins Played                      0\n",
       "tacklePerGame                   73\n",
       "interceptionPerGame            153\n",
       "foulsPerGame                    83\n",
       "clearancePerGame                13\n",
       "wasDribbledPerGame              77\n",
       "goal                           581\n",
       "assistTotal                    590\n",
       "shotsPerGame                    99\n",
       "keyPassPerGame                  96\n",
       "dribbleWonPerGame              154\n",
       "foulGivenPerGame                22\n",
       "offsideGivenPerGame            736\n",
       "dispossessedPerGame            144\n",
       "turnoverPerGame                 71\n",
       "totalPassesPerGame               4\n",
       "passSuccess                      4\n",
       "accurateCrossesPerGame         502\n",
       "accurateLongPassPerGame         42\n",
       "accurateThroughBallPerGame    1022\n",
       "xG                             127\n",
       "xGPerNinety                    127\n",
       "totalShots                     127\n",
       "xGPerShot                      127\n",
       "rating                           0\n",
       "dtype: int64"
      ]
     },
     "execution_count": 6,
     "metadata": {},
     "output_type": "execute_result"
    }
   ],
   "source": [
    "df.isna().sum()"
   ]
  },
  {
   "cell_type": "code",
   "execution_count": 7,
   "id": "4f819b4f-898a-485a-b444-b27f2acb9391",
   "metadata": {},
   "outputs": [],
   "source": [
    "df['xGPerNinety'] = pd.to_numeric(df['xGPerNinety'], errors='coerce')\n",
    "\n",
    "# Medyanı hesaplama\n",
    "median_value = df['xGPerNinety'].median()\n",
    "\n",
    "# NaN (boş) değerleri medyan ile doldurma\n",
    "df['xGPerNinety'].fillna(median_value, inplace=True)"
   ]
  },
  {
   "cell_type": "code",
   "execution_count": 8,
   "id": "8f2c2b70-e1f0-49de-915a-ce4de6610e47",
   "metadata": {},
   "outputs": [
    {
     "data": {
      "text/plain": [
       "Player Name                      0\n",
       "Player Team                      0\n",
       "Team Formation                   0\n",
       "Player Age                       0\n",
       "Player Height                    0\n",
       "Position 1                       0\n",
       "Position 2                       0\n",
       "Mins Played                      0\n",
       "tacklePerGame                   73\n",
       "interceptionPerGame            153\n",
       "foulsPerGame                    83\n",
       "clearancePerGame                13\n",
       "wasDribbledPerGame              77\n",
       "goal                           581\n",
       "assistTotal                    590\n",
       "shotsPerGame                    99\n",
       "keyPassPerGame                  96\n",
       "dribbleWonPerGame              154\n",
       "foulGivenPerGame                22\n",
       "offsideGivenPerGame            736\n",
       "dispossessedPerGame            144\n",
       "turnoverPerGame                 71\n",
       "totalPassesPerGame               4\n",
       "passSuccess                      4\n",
       "accurateCrossesPerGame         502\n",
       "accurateLongPassPerGame         42\n",
       "accurateThroughBallPerGame    1022\n",
       "xG                             127\n",
       "xGPerNinety                      0\n",
       "totalShots                     127\n",
       "xGPerShot                      127\n",
       "rating                           0\n",
       "dtype: int64"
      ]
     },
     "execution_count": 8,
     "metadata": {},
     "output_type": "execute_result"
    }
   ],
   "source": [
    "df.isna().sum()"
   ]
  },
  {
   "cell_type": "code",
   "execution_count": 9,
   "id": "378bc50d-8c75-425b-a9ea-b0c9e3681e5f",
   "metadata": {},
   "outputs": [
    {
     "data": {
      "text/plain": [
       "Player Name                   0\n",
       "Player Team                   0\n",
       "Team Formation                0\n",
       "Player Age                    0\n",
       "Player Height                 0\n",
       "Position 1                    0\n",
       "Position 2                    0\n",
       "Mins Played                   0\n",
       "tacklePerGame                 0\n",
       "interceptionPerGame           0\n",
       "foulsPerGame                  0\n",
       "clearancePerGame              0\n",
       "wasDribbledPerGame            0\n",
       "goal                          0\n",
       "assistTotal                   0\n",
       "shotsPerGame                  0\n",
       "keyPassPerGame                0\n",
       "dribbleWonPerGame             0\n",
       "foulGivenPerGame              0\n",
       "offsideGivenPerGame           0\n",
       "dispossessedPerGame           0\n",
       "turnoverPerGame               0\n",
       "totalPassesPerGame            0\n",
       "passSuccess                   0\n",
       "accurateCrossesPerGame        0\n",
       "accurateLongPassPerGame       0\n",
       "accurateThroughBallPerGame    0\n",
       "xG                            0\n",
       "xGPerNinety                   0\n",
       "totalShots                    0\n",
       "xGPerShot                     0\n",
       "rating                        0\n",
       "dtype: int64"
      ]
     },
     "execution_count": 9,
     "metadata": {},
     "output_type": "execute_result"
    }
   ],
   "source": [
    "df=df.fillna(0)\n",
    "df.isna().sum()"
   ]
  },
  {
   "cell_type": "code",
   "execution_count": 10,
   "id": "07e3c2a0-19bd-496b-bbef-8064e470c8ba",
   "metadata": {},
   "outputs": [
    {
     "data": {
      "text/plain": [
       "array([0.09, 0.21, 0.22, 0.18, 0.1 , 0.17, 0.15, 0.16, 0.13, 0.12, 0.14,\n",
       "       0.07, 0.2 , 0.08, 0.19, 0.26, 0.11, 0.03, 0.28, 0.06, 0.  , 0.04,\n",
       "       0.24, 0.05, 0.23, 0.3 , 0.35, 0.02, 0.25, 0.01, 0.59, 0.27, 0.29,\n",
       "       0.48, 0.44, 0.31, 0.77, 0.33, 0.34])"
      ]
     },
     "execution_count": 10,
     "metadata": {},
     "output_type": "execute_result"
    }
   ],
   "source": [
    "df['xGPerShot'].unique()"
   ]
  },
  {
   "cell_type": "markdown",
   "id": "c8d5b509-81cc-4c30-8752-3696d428cbea",
   "metadata": {},
   "source": [
    "# Model"
   ]
  },
  {
   "cell_type": "markdown",
   "id": "99019b5c-1e29-4f44-9a96-61bd3bcba3f5",
   "metadata": {},
   "source": [
    "## Creating Model Elements"
   ]
  },
  {
   "cell_type": "code",
   "execution_count": 52,
   "id": "d9fda7fd-8a5a-4d9e-a49b-322d1162d718",
   "metadata": {},
   "outputs": [],
   "source": [
    "from sklearn.preprocessing import LabelEncoder\n",
    "label_encoder = LabelEncoder()\n",
    "df['Position 1'] = label_encoder.fit_transform(df['Position 1'])"
   ]
  },
  {
   "cell_type": "code",
   "execution_count": 53,
   "id": "1bc323a1-cb34-4434-8035-3ffc11f4bd54",
   "metadata": {},
   "outputs": [],
   "source": [
    "from sklearn.model_selection import train_test_split\n",
    "X=df.drop(columns=['Position 1','Position 2', 'Player Name','Player Team', 'Team Formation', 'Player Age','Mins Played','rating'])\n",
    "y=df['Position 1']"
   ]
  },
  {
   "cell_type": "code",
   "execution_count": 56,
   "id": "3e0cce3d-c1e1-433a-b367-61bc8983347f",
   "metadata": {},
   "outputs": [
    {
     "data": {
      "text/plain": [
       "0     6\n",
       "1     2\n",
       "2     0\n",
       "3     2\n",
       "4    15\n",
       "Name: Position 1, dtype: int32"
      ]
     },
     "execution_count": 56,
     "metadata": {},
     "output_type": "execute_result"
    }
   ],
   "source": [
    "y.head()"
   ]
  },
  {
   "cell_type": "code",
   "execution_count": 57,
   "id": "c20d414d-9f5a-4586-946a-cdd7ecc7139f",
   "metadata": {},
   "outputs": [],
   "source": [
    "X_train, X_test, y_train, y_test = train_test_split(X,y, test_size=0.2, random_state=42)"
   ]
  },
  {
   "cell_type": "markdown",
   "id": "3aefd051-efdf-4a28-8a4b-bb591e46b860",
   "metadata": {},
   "source": [
    "## Model Selection"
   ]
  },
  {
   "cell_type": "markdown",
   "id": "683943f7-2961-4065-8eaf-7280b72d1fb3",
   "metadata": {},
   "source": [
    "### SVM"
   ]
  },
  {
   "cell_type": "code",
   "execution_count": 58,
   "id": "835ce247-dbcf-474d-9cee-744de40ce61f",
   "metadata": {},
   "outputs": [
    {
     "data": {
      "text/html": [
       "<style>#sk-container-id-4 {color: black;background-color: white;}#sk-container-id-4 pre{padding: 0;}#sk-container-id-4 div.sk-toggleable {background-color: white;}#sk-container-id-4 label.sk-toggleable__label {cursor: pointer;display: block;width: 100%;margin-bottom: 0;padding: 0.3em;box-sizing: border-box;text-align: center;}#sk-container-id-4 label.sk-toggleable__label-arrow:before {content: \"▸\";float: left;margin-right: 0.25em;color: #696969;}#sk-container-id-4 label.sk-toggleable__label-arrow:hover:before {color: black;}#sk-container-id-4 div.sk-estimator:hover label.sk-toggleable__label-arrow:before {color: black;}#sk-container-id-4 div.sk-toggleable__content {max-height: 0;max-width: 0;overflow: hidden;text-align: left;background-color: #f0f8ff;}#sk-container-id-4 div.sk-toggleable__content pre {margin: 0.2em;color: black;border-radius: 0.25em;background-color: #f0f8ff;}#sk-container-id-4 input.sk-toggleable__control:checked~div.sk-toggleable__content {max-height: 200px;max-width: 100%;overflow: auto;}#sk-container-id-4 input.sk-toggleable__control:checked~label.sk-toggleable__label-arrow:before {content: \"▾\";}#sk-container-id-4 div.sk-estimator input.sk-toggleable__control:checked~label.sk-toggleable__label {background-color: #d4ebff;}#sk-container-id-4 div.sk-label input.sk-toggleable__control:checked~label.sk-toggleable__label {background-color: #d4ebff;}#sk-container-id-4 input.sk-hidden--visually {border: 0;clip: rect(1px 1px 1px 1px);clip: rect(1px, 1px, 1px, 1px);height: 1px;margin: -1px;overflow: hidden;padding: 0;position: absolute;width: 1px;}#sk-container-id-4 div.sk-estimator {font-family: monospace;background-color: #f0f8ff;border: 1px dotted black;border-radius: 0.25em;box-sizing: border-box;margin-bottom: 0.5em;}#sk-container-id-4 div.sk-estimator:hover {background-color: #d4ebff;}#sk-container-id-4 div.sk-parallel-item::after {content: \"\";width: 100%;border-bottom: 1px solid gray;flex-grow: 1;}#sk-container-id-4 div.sk-label:hover label.sk-toggleable__label {background-color: #d4ebff;}#sk-container-id-4 div.sk-serial::before {content: \"\";position: absolute;border-left: 1px solid gray;box-sizing: border-box;top: 0;bottom: 0;left: 50%;z-index: 0;}#sk-container-id-4 div.sk-serial {display: flex;flex-direction: column;align-items: center;background-color: white;padding-right: 0.2em;padding-left: 0.2em;position: relative;}#sk-container-id-4 div.sk-item {position: relative;z-index: 1;}#sk-container-id-4 div.sk-parallel {display: flex;align-items: stretch;justify-content: center;background-color: white;position: relative;}#sk-container-id-4 div.sk-item::before, #sk-container-id-4 div.sk-parallel-item::before {content: \"\";position: absolute;border-left: 1px solid gray;box-sizing: border-box;top: 0;bottom: 0;left: 50%;z-index: -1;}#sk-container-id-4 div.sk-parallel-item {display: flex;flex-direction: column;z-index: 1;position: relative;background-color: white;}#sk-container-id-4 div.sk-parallel-item:first-child::after {align-self: flex-end;width: 50%;}#sk-container-id-4 div.sk-parallel-item:last-child::after {align-self: flex-start;width: 50%;}#sk-container-id-4 div.sk-parallel-item:only-child::after {width: 0;}#sk-container-id-4 div.sk-dashed-wrapped {border: 1px dashed gray;margin: 0 0.4em 0.5em 0.4em;box-sizing: border-box;padding-bottom: 0.4em;background-color: white;}#sk-container-id-4 div.sk-label label {font-family: monospace;font-weight: bold;display: inline-block;line-height: 1.2em;}#sk-container-id-4 div.sk-label-container {text-align: center;}#sk-container-id-4 div.sk-container {/* jupyter's `normalize.less` sets `[hidden] { display: none; }` but bootstrap.min.css set `[hidden] { display: none !important; }` so we also need the `!important` here to be able to override the default hidden behavior on the sphinx rendered scikit-learn.org. See: https://github.com/scikit-learn/scikit-learn/issues/21755 */display: inline-block !important;position: relative;}#sk-container-id-4 div.sk-text-repr-fallback {display: none;}</style><div id=\"sk-container-id-4\" class=\"sk-top-container\"><div class=\"sk-text-repr-fallback\"><pre>GridSearchCV(cv=2, estimator=SVC(), n_jobs=-1,\n",
       "             param_grid={&#x27;C&#x27;: [0.1, 1, 10, 100], &#x27;gamma&#x27;: [&#x27;scale&#x27;, &#x27;auto&#x27;],\n",
       "                         &#x27;kernel&#x27;: [&#x27;linear&#x27;, &#x27;rbf&#x27;, &#x27;poly&#x27;]},\n",
       "             scoring=&#x27;accuracy&#x27;)</pre><b>In a Jupyter environment, please rerun this cell to show the HTML representation or trust the notebook. <br />On GitHub, the HTML representation is unable to render, please try loading this page with nbviewer.org.</b></div><div class=\"sk-container\" hidden><div class=\"sk-item sk-dashed-wrapped\"><div class=\"sk-label-container\"><div class=\"sk-label sk-toggleable\"><input class=\"sk-toggleable__control sk-hidden--visually\" id=\"sk-estimator-id-10\" type=\"checkbox\" ><label for=\"sk-estimator-id-10\" class=\"sk-toggleable__label sk-toggleable__label-arrow\">GridSearchCV</label><div class=\"sk-toggleable__content\"><pre>GridSearchCV(cv=2, estimator=SVC(), n_jobs=-1,\n",
       "             param_grid={&#x27;C&#x27;: [0.1, 1, 10, 100], &#x27;gamma&#x27;: [&#x27;scale&#x27;, &#x27;auto&#x27;],\n",
       "                         &#x27;kernel&#x27;: [&#x27;linear&#x27;, &#x27;rbf&#x27;, &#x27;poly&#x27;]},\n",
       "             scoring=&#x27;accuracy&#x27;)</pre></div></div></div><div class=\"sk-parallel\"><div class=\"sk-parallel-item\"><div class=\"sk-item\"><div class=\"sk-label-container\"><div class=\"sk-label sk-toggleable\"><input class=\"sk-toggleable__control sk-hidden--visually\" id=\"sk-estimator-id-11\" type=\"checkbox\" ><label for=\"sk-estimator-id-11\" class=\"sk-toggleable__label sk-toggleable__label-arrow\">estimator: SVC</label><div class=\"sk-toggleable__content\"><pre>SVC()</pre></div></div></div><div class=\"sk-serial\"><div class=\"sk-item\"><div class=\"sk-estimator sk-toggleable\"><input class=\"sk-toggleable__control sk-hidden--visually\" id=\"sk-estimator-id-12\" type=\"checkbox\" ><label for=\"sk-estimator-id-12\" class=\"sk-toggleable__label sk-toggleable__label-arrow\">SVC</label><div class=\"sk-toggleable__content\"><pre>SVC()</pre></div></div></div></div></div></div></div></div></div></div>"
      ],
      "text/plain": [
       "GridSearchCV(cv=2, estimator=SVC(), n_jobs=-1,\n",
       "             param_grid={'C': [0.1, 1, 10, 100], 'gamma': ['scale', 'auto'],\n",
       "                         'kernel': ['linear', 'rbf', 'poly']},\n",
       "             scoring='accuracy')"
      ]
     },
     "execution_count": 58,
     "metadata": {},
     "output_type": "execute_result"
    }
   ],
   "source": [
    "from sklearn.svm import SVC\n",
    "from sklearn.model_selection import GridSearchCV\n",
    "param_grid = {\n",
    "    'C': [0.1, 1, 10, 100],\n",
    "    'kernel': ['linear', 'rbf', 'poly'],\n",
    "    'gamma': ['scale', 'auto']\n",
    "}\n",
    "SVM = GridSearchCV(SVC(), param_grid, cv=2, scoring='accuracy', n_jobs=-1)\n",
    "SVM.fit(X_train, y_train)"
   ]
  },
  {
   "cell_type": "code",
   "execution_count": 60,
   "id": "19a1b4f6-0289-46f8-b877-feb055885fa5",
   "metadata": {},
   "outputs": [],
   "source": [
    "SVM_Score=SVM.score(X_test, y_test)"
   ]
  },
  {
   "cell_type": "code",
   "execution_count": 61,
   "id": "d7fc4fc2-ff0e-429c-8716-626734154583",
   "metadata": {},
   "outputs": [
    {
     "name": "stdout",
     "output_type": "stream",
     "text": [
      "SVM Score: 0.34527687296416937\n"
     ]
    }
   ],
   "source": [
    "print('SVM Score:',SVM_Score)"
   ]
  },
  {
   "cell_type": "markdown",
   "id": "b67a620f-1539-42ba-86c0-36a572ccb117",
   "metadata": {},
   "source": [
    "### Random Forest"
   ]
  },
  {
   "cell_type": "code",
   "execution_count": 63,
   "id": "b42da5cf-19d6-45c3-8e29-07d327e3a10d",
   "metadata": {},
   "outputs": [],
   "source": [
    "from sklearn.ensemble import RandomForestClassifier\n",
    "param_grid_RFC = {\n",
    "    'n_estimators': [50, 100, 200],\n",
    "    'max_depth': [5, 10, 20, None],\n",
    "    'min_samples_split': [2, 5, 10]\n",
    "}"
   ]
  },
  {
   "cell_type": "code",
   "execution_count": 64,
   "id": "37e23828-5713-4223-86c1-97f6a980285a",
   "metadata": {},
   "outputs": [
    {
     "name": "stdout",
     "output_type": "stream",
     "text": [
      "Best Parameters: {'max_depth': 10, 'min_samples_split': 5, 'n_estimators': 200}\n",
      "Best Score: 0.42495921696574224\n"
     ]
    }
   ],
   "source": [
    "grid_RFC=GridSearchCV(RandomForestClassifier(), param_grid_RFC, cv=2, scoring='accuracy', n_jobs=1)\n",
    "grid_RFC.fit(X_train, y_train)\n",
    "print(\"Best Parameters:\", grid_RFC.best_params_)\n",
    "print(\"Best Score:\", grid_RFC.best_score_)"
   ]
  },
  {
   "cell_type": "markdown",
   "id": "ec7e41e1-abb2-418a-8ce3-5f0a394a7a18",
   "metadata": {},
   "source": [
    "### XGBoost"
   ]
  },
  {
   "cell_type": "code",
   "execution_count": 65,
   "id": "8e33de40-dec6-443f-b380-f72a624221a4",
   "metadata": {},
   "outputs": [],
   "source": [
    "from xgboost import XGBClassifier\n",
    "param_grid_XGB = {\n",
    "    'n_estimators': [100, 200, 300],\n",
    "    'learning_rate': [0.01, 0.1, 0.2],\n",
    "    'max_depth': [3, 5, 10]\n",
    "}"
   ]
  },
  {
   "cell_type": "code",
   "execution_count": 66,
   "id": "7394e3b0-3212-41a1-9156-4c793e7cf1cd",
   "metadata": {},
   "outputs": [
    {
     "name": "stdout",
     "output_type": "stream",
     "text": [
      "Best Parameters: {'learning_rate': 0.01, 'max_depth': 5, 'n_estimators': 200}\n",
      "Best Score: 0.40538336052202284\n"
     ]
    }
   ],
   "source": [
    "grid_XGB=GridSearchCV(XGBClassifier(), param_grid_XGB, cv=2, scoring='accuracy', n_jobs=1)\n",
    "grid_XGB.fit(X_train, y_train)\n",
    "print(\"Best Parameters:\", grid_XGB.best_params_)\n",
    "print(\"Best Score:\", grid_XGB.best_score_)"
   ]
  },
  {
   "cell_type": "markdown",
   "id": "ac6f2b66-9a80-4527-8231-2c0a49343620",
   "metadata": {},
   "source": [
    "### Multi Layer Perceptron"
   ]
  },
  {
   "cell_type": "code",
   "execution_count": 67,
   "id": "d78950ff-4624-4cb7-912e-49a7e4457ac0",
   "metadata": {},
   "outputs": [],
   "source": [
    "from sklearn.neural_network import MLPClassifier\n",
    "\n",
    "param_grid_MLP = {\n",
    "    'hidden_layer_sizes': [(50,), (100,), (100, 50)],\n",
    "    'activation': ['relu', 'tanh'],\n",
    "    'solver': ['adam', 'sgd']\n",
    "}"
   ]
  },
  {
   "cell_type": "code",
   "execution_count": 70,
   "id": "83aa26ce-2731-493e-b493-4d983f6fd65f",
   "metadata": {},
   "outputs": [
    {
     "name": "stderr",
     "output_type": "stream",
     "text": [
      "C:\\Users\\USER\\anaconda3\\Lib\\site-packages\\sklearn\\neural_network\\_multilayer_perceptron.py:686: ConvergenceWarning: Stochastic Optimizer: Maximum iterations (500) reached and the optimization hasn't converged yet.\n",
      "  warnings.warn(\n"
     ]
    },
    {
     "data": {
      "text/html": [
       "<style>#sk-container-id-6 {color: black;background-color: white;}#sk-container-id-6 pre{padding: 0;}#sk-container-id-6 div.sk-toggleable {background-color: white;}#sk-container-id-6 label.sk-toggleable__label {cursor: pointer;display: block;width: 100%;margin-bottom: 0;padding: 0.3em;box-sizing: border-box;text-align: center;}#sk-container-id-6 label.sk-toggleable__label-arrow:before {content: \"▸\";float: left;margin-right: 0.25em;color: #696969;}#sk-container-id-6 label.sk-toggleable__label-arrow:hover:before {color: black;}#sk-container-id-6 div.sk-estimator:hover label.sk-toggleable__label-arrow:before {color: black;}#sk-container-id-6 div.sk-toggleable__content {max-height: 0;max-width: 0;overflow: hidden;text-align: left;background-color: #f0f8ff;}#sk-container-id-6 div.sk-toggleable__content pre {margin: 0.2em;color: black;border-radius: 0.25em;background-color: #f0f8ff;}#sk-container-id-6 input.sk-toggleable__control:checked~div.sk-toggleable__content {max-height: 200px;max-width: 100%;overflow: auto;}#sk-container-id-6 input.sk-toggleable__control:checked~label.sk-toggleable__label-arrow:before {content: \"▾\";}#sk-container-id-6 div.sk-estimator input.sk-toggleable__control:checked~label.sk-toggleable__label {background-color: #d4ebff;}#sk-container-id-6 div.sk-label input.sk-toggleable__control:checked~label.sk-toggleable__label {background-color: #d4ebff;}#sk-container-id-6 input.sk-hidden--visually {border: 0;clip: rect(1px 1px 1px 1px);clip: rect(1px, 1px, 1px, 1px);height: 1px;margin: -1px;overflow: hidden;padding: 0;position: absolute;width: 1px;}#sk-container-id-6 div.sk-estimator {font-family: monospace;background-color: #f0f8ff;border: 1px dotted black;border-radius: 0.25em;box-sizing: border-box;margin-bottom: 0.5em;}#sk-container-id-6 div.sk-estimator:hover {background-color: #d4ebff;}#sk-container-id-6 div.sk-parallel-item::after {content: \"\";width: 100%;border-bottom: 1px solid gray;flex-grow: 1;}#sk-container-id-6 div.sk-label:hover label.sk-toggleable__label {background-color: #d4ebff;}#sk-container-id-6 div.sk-serial::before {content: \"\";position: absolute;border-left: 1px solid gray;box-sizing: border-box;top: 0;bottom: 0;left: 50%;z-index: 0;}#sk-container-id-6 div.sk-serial {display: flex;flex-direction: column;align-items: center;background-color: white;padding-right: 0.2em;padding-left: 0.2em;position: relative;}#sk-container-id-6 div.sk-item {position: relative;z-index: 1;}#sk-container-id-6 div.sk-parallel {display: flex;align-items: stretch;justify-content: center;background-color: white;position: relative;}#sk-container-id-6 div.sk-item::before, #sk-container-id-6 div.sk-parallel-item::before {content: \"\";position: absolute;border-left: 1px solid gray;box-sizing: border-box;top: 0;bottom: 0;left: 50%;z-index: -1;}#sk-container-id-6 div.sk-parallel-item {display: flex;flex-direction: column;z-index: 1;position: relative;background-color: white;}#sk-container-id-6 div.sk-parallel-item:first-child::after {align-self: flex-end;width: 50%;}#sk-container-id-6 div.sk-parallel-item:last-child::after {align-self: flex-start;width: 50%;}#sk-container-id-6 div.sk-parallel-item:only-child::after {width: 0;}#sk-container-id-6 div.sk-dashed-wrapped {border: 1px dashed gray;margin: 0 0.4em 0.5em 0.4em;box-sizing: border-box;padding-bottom: 0.4em;background-color: white;}#sk-container-id-6 div.sk-label label {font-family: monospace;font-weight: bold;display: inline-block;line-height: 1.2em;}#sk-container-id-6 div.sk-label-container {text-align: center;}#sk-container-id-6 div.sk-container {/* jupyter's `normalize.less` sets `[hidden] { display: none; }` but bootstrap.min.css set `[hidden] { display: none !important; }` so we also need the `!important` here to be able to override the default hidden behavior on the sphinx rendered scikit-learn.org. See: https://github.com/scikit-learn/scikit-learn/issues/21755 */display: inline-block !important;position: relative;}#sk-container-id-6 div.sk-text-repr-fallback {display: none;}</style><div id=\"sk-container-id-6\" class=\"sk-top-container\"><div class=\"sk-text-repr-fallback\"><pre>GridSearchCV(cv=2, estimator=MLPClassifier(max_iter=500), n_jobs=-1,\n",
       "             param_grid={&#x27;activation&#x27;: [&#x27;relu&#x27;, &#x27;tanh&#x27;],\n",
       "                         &#x27;hidden_layer_sizes&#x27;: [(50,), (100,), (100, 50)],\n",
       "                         &#x27;solver&#x27;: [&#x27;adam&#x27;, &#x27;sgd&#x27;]},\n",
       "             scoring=&#x27;accuracy&#x27;)</pre><b>In a Jupyter environment, please rerun this cell to show the HTML representation or trust the notebook. <br />On GitHub, the HTML representation is unable to render, please try loading this page with nbviewer.org.</b></div><div class=\"sk-container\" hidden><div class=\"sk-item sk-dashed-wrapped\"><div class=\"sk-label-container\"><div class=\"sk-label sk-toggleable\"><input class=\"sk-toggleable__control sk-hidden--visually\" id=\"sk-estimator-id-16\" type=\"checkbox\" ><label for=\"sk-estimator-id-16\" class=\"sk-toggleable__label sk-toggleable__label-arrow\">GridSearchCV</label><div class=\"sk-toggleable__content\"><pre>GridSearchCV(cv=2, estimator=MLPClassifier(max_iter=500), n_jobs=-1,\n",
       "             param_grid={&#x27;activation&#x27;: [&#x27;relu&#x27;, &#x27;tanh&#x27;],\n",
       "                         &#x27;hidden_layer_sizes&#x27;: [(50,), (100,), (100, 50)],\n",
       "                         &#x27;solver&#x27;: [&#x27;adam&#x27;, &#x27;sgd&#x27;]},\n",
       "             scoring=&#x27;accuracy&#x27;)</pre></div></div></div><div class=\"sk-parallel\"><div class=\"sk-parallel-item\"><div class=\"sk-item\"><div class=\"sk-label-container\"><div class=\"sk-label sk-toggleable\"><input class=\"sk-toggleable__control sk-hidden--visually\" id=\"sk-estimator-id-17\" type=\"checkbox\" ><label for=\"sk-estimator-id-17\" class=\"sk-toggleable__label sk-toggleable__label-arrow\">estimator: MLPClassifier</label><div class=\"sk-toggleable__content\"><pre>MLPClassifier(max_iter=500)</pre></div></div></div><div class=\"sk-serial\"><div class=\"sk-item\"><div class=\"sk-estimator sk-toggleable\"><input class=\"sk-toggleable__control sk-hidden--visually\" id=\"sk-estimator-id-18\" type=\"checkbox\" ><label for=\"sk-estimator-id-18\" class=\"sk-toggleable__label sk-toggleable__label-arrow\">MLPClassifier</label><div class=\"sk-toggleable__content\"><pre>MLPClassifier(max_iter=500)</pre></div></div></div></div></div></div></div></div></div></div>"
      ],
      "text/plain": [
       "GridSearchCV(cv=2, estimator=MLPClassifier(max_iter=500), n_jobs=-1,\n",
       "             param_grid={'activation': ['relu', 'tanh'],\n",
       "                         'hidden_layer_sizes': [(50,), (100,), (100, 50)],\n",
       "                         'solver': ['adam', 'sgd']},\n",
       "             scoring='accuracy')"
      ]
     },
     "execution_count": 70,
     "metadata": {},
     "output_type": "execute_result"
    }
   ],
   "source": [
    "grid_MLP = GridSearchCV(MLPClassifier(max_iter=500), param_grid_MLP, cv=2, scoring='accuracy', n_jobs=-1)\n",
    "grid_MLP.fit(X_train, y_train)"
   ]
  },
  {
   "cell_type": "code",
   "execution_count": 71,
   "id": "413eaa5e-cf49-4c19-94d5-fbe6316f80bc",
   "metadata": {},
   "outputs": [
    {
     "name": "stdout",
     "output_type": "stream",
     "text": [
      "Best Parameters: {'activation': 'tanh', 'hidden_layer_sizes': (50,), 'solver': 'adam'}\n",
      "Best Score: 0.41190864600326266\n"
     ]
    }
   ],
   "source": [
    "print(\"Best Parameters:\", grid_MLP.best_params_)\n",
    "print(\"Best Score:\", grid_MLP.best_score_)"
   ]
  },
  {
   "cell_type": "markdown",
   "id": "7f422119-ec79-4623-8f71-e8e2a4d4adf0",
   "metadata": {},
   "source": [
    "### CatBoost"
   ]
  },
  {
   "cell_type": "code",
   "execution_count": 73,
   "id": "47f2215c-5ae0-4fde-9303-89239e67dd95",
   "metadata": {},
   "outputs": [],
   "source": [
    "from catboost import CatBoostClassifier\n",
    "\n",
    "param_grid_CBC = {\n",
    "    'iterations': [100, 200, 300],\n",
    "    'learning_rate': [0.01, 0.1, 0.2],\n",
    "    'depth': [4, 6, 8]\n",
    "}"
   ]
  },
  {
   "cell_type": "code",
   "execution_count": 74,
   "id": "9985c519-7aaa-4d02-af95-ab71ee9fc7a8",
   "metadata": {},
   "outputs": [
    {
     "name": "stderr",
     "output_type": "stream",
     "text": [
      "C:\\Users\\USER\\anaconda3\\Lib\\site-packages\\sklearn\\model_selection\\_validation.py:378: FitFailedWarning: \n",
      "2 fits failed out of a total of 54.\n",
      "The score on these train-test partitions for these parameters will be set to nan.\n",
      "If these failures are not expected, you can try to debug them by setting error_score='raise'.\n",
      "\n",
      "Below are more details about the failures:\n",
      "--------------------------------------------------------------------------------\n",
      "2 fits failed with the following error:\n",
      "Traceback (most recent call last):\n",
      "  File \"C:\\Users\\USER\\anaconda3\\Lib\\site-packages\\sklearn\\model_selection\\_validation.py\", line 686, in _fit_and_score\n",
      "    estimator.fit(X_train, y_train, **fit_params)\n",
      "  File \"C:\\Users\\USER\\anaconda3\\Lib\\site-packages\\catboost\\core.py\", line 5245, in fit\n",
      "    self._fit(X, y, cat_features, text_features, embedding_features, None, graph, sample_weight, None, None, None, None, baseline, use_best_model,\n",
      "  File \"C:\\Users\\USER\\anaconda3\\Lib\\site-packages\\catboost\\core.py\", line 2410, in _fit\n",
      "    self._train(\n",
      "  File \"C:\\Users\\USER\\anaconda3\\Lib\\site-packages\\catboost\\core.py\", line 1790, in _train\n",
      "    self._object._train(train_pool, test_pool, params, allow_clear_pool, init_model._object if init_model else None)\n",
      "  File \"_catboost.pyx\", line 5017, in _catboost._CatBoost._train\n",
      "  File \"_catboost.pyx\", line 5066, in _catboost._CatBoost._train\n",
      "_catboost.CatBoostError: catboost/libs/train_lib/dir_helper.cpp:26: Can't create train tmp dir: tmp\n",
      "\n",
      "  warnings.warn(some_fits_failed_message, FitFailedWarning)\n",
      "C:\\Users\\USER\\anaconda3\\Lib\\site-packages\\sklearn\\model_selection\\_search.py:952: UserWarning: One or more of the test scores are non-finite: [0.41027732        nan 0.42169657        nan 0.42414356 0.41843393\n",
      " 0.41843393 0.42659054 0.41109299 0.40946166 0.42985318 0.42169657\n",
      " 0.41435563 0.42903752 0.42006525 0.41680261 0.4233279  0.42006525\n",
      " 0.41598695 0.42414356 0.40701468 0.41598695 0.4233279  0.4233279\n",
      " 0.41190865 0.42088091 0.41680261]\n",
      "  warnings.warn(\n"
     ]
    },
    {
     "data": {
      "text/html": [
       "<style>#sk-container-id-7 {color: black;background-color: white;}#sk-container-id-7 pre{padding: 0;}#sk-container-id-7 div.sk-toggleable {background-color: white;}#sk-container-id-7 label.sk-toggleable__label {cursor: pointer;display: block;width: 100%;margin-bottom: 0;padding: 0.3em;box-sizing: border-box;text-align: center;}#sk-container-id-7 label.sk-toggleable__label-arrow:before {content: \"▸\";float: left;margin-right: 0.25em;color: #696969;}#sk-container-id-7 label.sk-toggleable__label-arrow:hover:before {color: black;}#sk-container-id-7 div.sk-estimator:hover label.sk-toggleable__label-arrow:before {color: black;}#sk-container-id-7 div.sk-toggleable__content {max-height: 0;max-width: 0;overflow: hidden;text-align: left;background-color: #f0f8ff;}#sk-container-id-7 div.sk-toggleable__content pre {margin: 0.2em;color: black;border-radius: 0.25em;background-color: #f0f8ff;}#sk-container-id-7 input.sk-toggleable__control:checked~div.sk-toggleable__content {max-height: 200px;max-width: 100%;overflow: auto;}#sk-container-id-7 input.sk-toggleable__control:checked~label.sk-toggleable__label-arrow:before {content: \"▾\";}#sk-container-id-7 div.sk-estimator input.sk-toggleable__control:checked~label.sk-toggleable__label {background-color: #d4ebff;}#sk-container-id-7 div.sk-label input.sk-toggleable__control:checked~label.sk-toggleable__label {background-color: #d4ebff;}#sk-container-id-7 input.sk-hidden--visually {border: 0;clip: rect(1px 1px 1px 1px);clip: rect(1px, 1px, 1px, 1px);height: 1px;margin: -1px;overflow: hidden;padding: 0;position: absolute;width: 1px;}#sk-container-id-7 div.sk-estimator {font-family: monospace;background-color: #f0f8ff;border: 1px dotted black;border-radius: 0.25em;box-sizing: border-box;margin-bottom: 0.5em;}#sk-container-id-7 div.sk-estimator:hover {background-color: #d4ebff;}#sk-container-id-7 div.sk-parallel-item::after {content: \"\";width: 100%;border-bottom: 1px solid gray;flex-grow: 1;}#sk-container-id-7 div.sk-label:hover label.sk-toggleable__label {background-color: #d4ebff;}#sk-container-id-7 div.sk-serial::before {content: \"\";position: absolute;border-left: 1px solid gray;box-sizing: border-box;top: 0;bottom: 0;left: 50%;z-index: 0;}#sk-container-id-7 div.sk-serial {display: flex;flex-direction: column;align-items: center;background-color: white;padding-right: 0.2em;padding-left: 0.2em;position: relative;}#sk-container-id-7 div.sk-item {position: relative;z-index: 1;}#sk-container-id-7 div.sk-parallel {display: flex;align-items: stretch;justify-content: center;background-color: white;position: relative;}#sk-container-id-7 div.sk-item::before, #sk-container-id-7 div.sk-parallel-item::before {content: \"\";position: absolute;border-left: 1px solid gray;box-sizing: border-box;top: 0;bottom: 0;left: 50%;z-index: -1;}#sk-container-id-7 div.sk-parallel-item {display: flex;flex-direction: column;z-index: 1;position: relative;background-color: white;}#sk-container-id-7 div.sk-parallel-item:first-child::after {align-self: flex-end;width: 50%;}#sk-container-id-7 div.sk-parallel-item:last-child::after {align-self: flex-start;width: 50%;}#sk-container-id-7 div.sk-parallel-item:only-child::after {width: 0;}#sk-container-id-7 div.sk-dashed-wrapped {border: 1px dashed gray;margin: 0 0.4em 0.5em 0.4em;box-sizing: border-box;padding-bottom: 0.4em;background-color: white;}#sk-container-id-7 div.sk-label label {font-family: monospace;font-weight: bold;display: inline-block;line-height: 1.2em;}#sk-container-id-7 div.sk-label-container {text-align: center;}#sk-container-id-7 div.sk-container {/* jupyter's `normalize.less` sets `[hidden] { display: none; }` but bootstrap.min.css set `[hidden] { display: none !important; }` so we also need the `!important` here to be able to override the default hidden behavior on the sphinx rendered scikit-learn.org. See: https://github.com/scikit-learn/scikit-learn/issues/21755 */display: inline-block !important;position: relative;}#sk-container-id-7 div.sk-text-repr-fallback {display: none;}</style><div id=\"sk-container-id-7\" class=\"sk-top-container\"><div class=\"sk-text-repr-fallback\"><pre>GridSearchCV(cv=2,\n",
       "             estimator=&lt;catboost.core.CatBoostClassifier object at 0x000002216102E010&gt;,\n",
       "             n_jobs=-1,\n",
       "             param_grid={&#x27;depth&#x27;: [4, 6, 8], &#x27;iterations&#x27;: [100, 200, 300],\n",
       "                         &#x27;learning_rate&#x27;: [0.01, 0.1, 0.2]},\n",
       "             scoring=&#x27;accuracy&#x27;)</pre><b>In a Jupyter environment, please rerun this cell to show the HTML representation or trust the notebook. <br />On GitHub, the HTML representation is unable to render, please try loading this page with nbviewer.org.</b></div><div class=\"sk-container\" hidden><div class=\"sk-item sk-dashed-wrapped\"><div class=\"sk-label-container\"><div class=\"sk-label sk-toggleable\"><input class=\"sk-toggleable__control sk-hidden--visually\" id=\"sk-estimator-id-19\" type=\"checkbox\" ><label for=\"sk-estimator-id-19\" class=\"sk-toggleable__label sk-toggleable__label-arrow\">GridSearchCV</label><div class=\"sk-toggleable__content\"><pre>GridSearchCV(cv=2,\n",
       "             estimator=&lt;catboost.core.CatBoostClassifier object at 0x000002216102E010&gt;,\n",
       "             n_jobs=-1,\n",
       "             param_grid={&#x27;depth&#x27;: [4, 6, 8], &#x27;iterations&#x27;: [100, 200, 300],\n",
       "                         &#x27;learning_rate&#x27;: [0.01, 0.1, 0.2]},\n",
       "             scoring=&#x27;accuracy&#x27;)</pre></div></div></div><div class=\"sk-parallel\"><div class=\"sk-parallel-item\"><div class=\"sk-item\"><div class=\"sk-label-container\"><div class=\"sk-label sk-toggleable\"><input class=\"sk-toggleable__control sk-hidden--visually\" id=\"sk-estimator-id-20\" type=\"checkbox\" ><label for=\"sk-estimator-id-20\" class=\"sk-toggleable__label sk-toggleable__label-arrow\">estimator: CatBoostClassifier</label><div class=\"sk-toggleable__content\"><pre>&lt;catboost.core.CatBoostClassifier object at 0x000002216102E010&gt;</pre></div></div></div><div class=\"sk-serial\"><div class=\"sk-item\"><div class=\"sk-estimator sk-toggleable\"><input class=\"sk-toggleable__control sk-hidden--visually\" id=\"sk-estimator-id-21\" type=\"checkbox\" ><label for=\"sk-estimator-id-21\" class=\"sk-toggleable__label sk-toggleable__label-arrow\">CatBoostClassifier</label><div class=\"sk-toggleable__content\"><pre>&lt;catboost.core.CatBoostClassifier object at 0x000002216102E010&gt;</pre></div></div></div></div></div></div></div></div></div></div>"
      ],
      "text/plain": [
       "GridSearchCV(cv=2,\n",
       "             estimator=<catboost.core.CatBoostClassifier object at 0x000002216102E010>,\n",
       "             n_jobs=-1,\n",
       "             param_grid={'depth': [4, 6, 8], 'iterations': [100, 200, 300],\n",
       "                         'learning_rate': [0.01, 0.1, 0.2]},\n",
       "             scoring='accuracy')"
      ]
     },
     "execution_count": 74,
     "metadata": {},
     "output_type": "execute_result"
    }
   ],
   "source": [
    "grid_CBC = GridSearchCV(CatBoostClassifier(verbose=0), param_grid_CBC, cv=2, scoring='accuracy', n_jobs=-1)\n",
    "grid_CBC.fit(X_train, y_train)"
   ]
  },
  {
   "cell_type": "code",
   "execution_count": 76,
   "id": "5b09a69a-6bf9-442b-bcbd-d903d2b75d6d",
   "metadata": {},
   "outputs": [
    {
     "name": "stdout",
     "output_type": "stream",
     "text": [
      "Best Parameters: {'depth': 6, 'iterations': 100, 'learning_rate': 0.1}\n",
      "Best Score: 0.4298531810766721\n"
     ]
    }
   ],
   "source": [
    "print(\"Best Parameters:\", grid_CBC.best_params_)\n",
    "print(\"Best Score:\", grid_CBC.best_score_)"
   ]
  },
  {
   "cell_type": "markdown",
   "id": "b17ff97a-ecb9-49e7-ac7f-da3569827e6e",
   "metadata": {},
   "source": [
    "## Parameter and Scoring Comparing"
   ]
  },
  {
   "cell_type": "code",
   "execution_count": 89,
   "id": "27b8a568-e7e9-4f20-99c1-bc79f585b574",
   "metadata": {},
   "outputs": [],
   "source": [
    "best_models = {\n",
    "    \"Random Forest\": grid_RFC.best_params_,\n",
    "    \"SVM\": SVM.best_params_,\n",
    "    \"XGBoost\": grid_XGB.best_params_,\n",
    "    \"CatBoost\": grid_CBC.best_params_,\n",
    "    \"MLP Neural Network\": grid_MLP.best_params_\n",
    "}\n",
    "df_best = pd.DataFrame(best_models.items(), columns=[\"Model\", \"Best Parameters\"])"
   ]
  },
  {
   "cell_type": "code",
   "execution_count": 90,
   "id": "22b19218-9915-494d-a8ce-bc65b2ddf91f",
   "metadata": {},
   "outputs": [],
   "source": [
    "best_model_scores = {\n",
    "    \"Random Forest\": grid_RFC.best_score_,\n",
    "    \"SVM\": SVM.best_score_,\n",
    "    \"XGBoost\": grid_XGB.best_score_,\n",
    "    \"CatBoost\": grid_CBC.best_score_,\n",
    "    \"MLP Neural Network\": grid_MLP.best_score_\n",
    "}\n",
    "df_best_score = pd.DataFrame(best_model_scores.items(), columns=[\"Model\", \"Best Scores\"])"
   ]
  },
  {
   "cell_type": "code",
   "execution_count": null,
   "id": "0dd32dc5-4da9-4e94-af69-e293d81ed7c1",
   "metadata": {},
   "outputs": [],
   "source": []
  },
  {
   "cell_type": "markdown",
   "id": "b2d9c1a1-1560-4910-9894-90e4040ffbb5",
   "metadata": {},
   "source": [
    "## Classification Reports"
   ]
  },
  {
   "cell_type": "code",
   "execution_count": 97,
   "id": "5fd89c13-8d63-4a58-a297-d8a7e9f340c4",
   "metadata": {},
   "outputs": [],
   "source": [
    "y_pred_rfc = grid_RFC.best_estimator_.predict(X_test)\n",
    "y_pred_svm = SVM.best_estimator_.predict(X_test)\n",
    "y_pred_xgb = grid_XGB.best_estimator_.predict(X_test)\n",
    "y_pred_cbc = grid_CBC.best_estimator_.predict(X_test)\n",
    "y_pred_mlp = grid_MLP.best_estimator_.predict(X_test)"
   ]
  },
  {
   "cell_type": "code",
   "execution_count": 98,
   "id": "c6792d60-7fbe-43a7-af6c-8e4bd59dbc18",
   "metadata": {},
   "outputs": [
    {
     "name": "stdout",
     "output_type": "stream",
     "text": [
      "              precision    recall  f1-score     support               Model\n",
      "AM(C)          0.000000  0.000000  0.000000    6.000000       Random Forest\n",
      "AM(CL)         1.000000  0.000000  0.000000    8.000000       Random Forest\n",
      "AM(CLR)        0.255319  0.521739  0.342857   23.000000       Random Forest\n",
      "AM(CR)         1.000000  0.000000  0.000000   16.000000       Random Forest\n",
      "AM(L)          1.000000  0.000000  0.000000    3.000000       Random Forest\n",
      "...                 ...       ...       ...         ...                 ...\n",
      "M(R)           1.000000  0.000000  0.000000    1.000000  MLP Neural Network\n",
      "RB             0.142857  0.050000  0.074074   20.000000  MLP Neural Network\n",
      "accuracy       0.371336  0.371336  0.371336    0.371336  MLP Neural Network\n",
      "macro avg      0.552060  0.234984  0.194879  307.000000  MLP Neural Network\n",
      "weighted avg   0.427649  0.371336  0.306228  307.000000  MLP Neural Network\n",
      "\n",
      "[135 rows x 5 columns]\n"
     ]
    },
    {
     "name": "stderr",
     "output_type": "stream",
     "text": [
      "C:\\Users\\USER\\anaconda3\\Lib\\site-packages\\sklearn\\preprocessing\\_label.py:155: DataConversionWarning: A column-vector y was passed when a 1d array was expected. Please change the shape of y to (n_samples, ), for example using ravel().\n",
      "  y = column_or_1d(y, warn=True)\n"
     ]
    }
   ],
   "source": [
    "from sklearn.metrics import classification_report\n",
    "\n",
    "y_test_labels = label_encoder.inverse_transform(y_test)\n",
    "\n",
    "y_pred_rfc_labels = label_encoder.inverse_transform(y_pred_rfc)\n",
    "y_pred_svm_labels = label_encoder.inverse_transform(y_pred_svm)\n",
    "y_pred_xgb_labels = label_encoder.inverse_transform(y_pred_xgb)\n",
    "y_pred_cbc_labels = label_encoder.inverse_transform(y_pred_cbc)\n",
    "y_pred_mlp_labels = label_encoder.inverse_transform(y_pred_mlp)\n",
    "\n",
    "reports = {\n",
    "    \"Random Forest\": classification_report(y_test_labels, y_pred_rfc_labels, output_dict=True, zero_division=1),\n",
    "    \"SVM\": classification_report(y_test_labels, y_pred_svm_labels, output_dict=True, zero_division=1),\n",
    "    \"XGBoost\": classification_report(y_test_labels, y_pred_xgb_labels, output_dict=True, zero_division=1),\n",
    "    \"CatBoost\": classification_report(y_test_labels, y_pred_cbc_labels, output_dict=True, zero_division=1),\n",
    "    \"MLP Neural Network\": classification_report(y_test_labels, y_pred_mlp_labels, output_dict=True, zero_division=1),\n",
    "}\n",
    "\n",
    "df_reports = {}\n",
    "for model, report in reports.items():\n",
    "    df = pd.DataFrame(report).transpose()\n",
    "    df[\"Model\"] = model  \n",
    "    df_reports[model] = df\n",
    "\n",
    "df_classification_reports = pd.concat(df_reports.values())\n",
    "\n",
    "print(df_classification_reports)\n"
   ]
  },
  {
   "cell_type": "code",
   "execution_count": null,
   "id": "b21a0f97-770b-433e-a3b9-5c66f22b4a6a",
   "metadata": {},
   "outputs": [],
   "source": []
  }
 ],
 "metadata": {
  "kernelspec": {
   "display_name": "Python 3 (ipykernel)",
   "language": "python",
   "name": "python3"
  },
  "language_info": {
   "codemirror_mode": {
    "name": "ipython",
    "version": 3
   },
   "file_extension": ".py",
   "mimetype": "text/x-python",
   "name": "python",
   "nbconvert_exporter": "python",
   "pygments_lexer": "ipython3",
   "version": "3.11.7"
  }
 },
 "nbformat": 4,
 "nbformat_minor": 5
}
